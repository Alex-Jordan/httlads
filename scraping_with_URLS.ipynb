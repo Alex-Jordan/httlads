{
 "cells": [
  {
   "cell_type": "code",
   "execution_count": 208,
   "metadata": {},
   "outputs": [
    {
     "data": {
      "text/plain": [
       "'<!doctype html>\\n<!--[if lt IE 7]> <html class=\"no-js lt-ie9 lt-ie8 lt-ie7\" lang=\"en\"> <![endif]-->\\n<!--[if IE 7]>    <html class=\"no-js lt-ie9 lt-ie8\" lang=\"en\"> <![endif]-->\\n<!--[if IE 8]>    <html c'"
      ]
     },
     "execution_count": 208,
     "metadata": {},
     "output_type": "execute_result"
    }
   ],
   "source": [
    "from bs4 import BeautifulSoup\n",
    "import pandas as pd\n",
    "# file = open(filename, encoding=\"utf8\")\n",
    "page = open(r\"C:/Users/santoshernandezr/factbook2017/docs/notesanddefs.html\", encoding='utf-8').read()\n",
    "page[:200]"
   ]
  },
  {
   "cell_type": "code",
   "execution_count": 209,
   "metadata": {
    "scrolled": true
   },
   "outputs": [],
   "source": [
    "all_info = BeautifulSoup(page)\n",
    "# print(page.prettify()[:1000])\n",
    "\n",
    "country_tags = all_info.select(\".header_ul .category\") \n",
    "urls = []\n",
    "\n",
    "for col in country_tags:\n",
    "    links = col.select('a')\n",
    "    if len(links) > 0:\n",
    "        fpath = links[0]['href']\n",
    "        fpath = fpath[2:] \n",
    "        urls.append(\"C:/Users/santoshernandezr/factbook2017\" + fpath)\n",
    "# print(urls)"
   ]
  },
  {
   "cell_type": "code",
   "execution_count": 210,
   "metadata": {
    "scrolled": true
   },
   "outputs": [],
   "source": [
    "from bs4 import BeautifulSoup\n",
    "import pandas as pd\n",
    "\n",
    "all_data = {}\n",
    "\n",
    "for url in urls[:20]:\n",
    "    new_url = url[:55]\n",
    "    # print(new_url)\n",
    "    page = open(new_url, encoding='utf-8').read()\n",
    "    page_content = BeautifulSoup(page)\n",
    "    \n",
    "    header_info = page_content.select(\"tr.fieldHeading\")\n",
    "    header = header_info[0].get_text()[7:]\n",
    "    # print(header)\n",
    "    \n",
    "    page_content = page_content.find(id=\"fieldListing\") # gets all the data where the country and the data is stored\n",
    "    \n",
    "    find_country = page_content.select(\"#fieldListing .country\") # gets all the countries\n",
    "    country_name = [pt.get_text() for pt in find_country] # gets all the countries\n",
    "    #print(country_name)\n",
    "    \n",
    "    find_data = page_content.select(\"#fieldListing .fieldData\") # finding where the data is\n",
    "    country_data = [pt.get_text()[1:-1] for pt in find_data] # retrieving the data\n",
    "    \n",
    "    dict = {country_name[i]: country_data[i] for i in range(len(country_name))} # dictionary that maps each country to the info\n",
    "    all_data[header] = dict # having a header for the dictionary of the information\n",
    "    \n",
    "    dict = {}\n",
    "    \n",
    "# print(all_data)\n",
    "web_scrape = pd.DataFrame(all_data).head()\n",
    "    "
   ]
  },
  {
   "cell_type": "code",
   "execution_count": 211,
   "metadata": {},
   "outputs": [
    {
     "data": {
      "text/plain": [
       "',ADMINISTRATIVE DIVISIONS ,AGE STRUCTURE(%),AGRICULTURE - PRODUCTS ,AIRPORTS ,AIRPORTS - WITH PAVED RUNWAYS ,AIRPORTS - WITH UNPAVED RUNWAYS ,AREA(SQ KM),AREA - COMPARATIVE(SQ KM),BACKGROUND ,\"BIRTH RATE(BIRTHS/1,000 POPULATION)\",BROADCAST MEDIA ,BUDGET ,BUDGET SURPLUS (+) OR DEFICIT (-)(% OF GDP),CAPITAL ,CARBON DIOXIDE EMISSIONS FROM CONSUMPTION OF ENERGY(MT),CENTRAL BANK DISCOUNT RATE(%),CHILD LABOR - CHILDREN AGES 5-14 ,CHILDREN UNDER THE AGE OF 5 YEARS UNDERWEIGHT(%),PIPELINES ,\\r\\nAfghanistan,\"34 provinces (welayat, singular - welayat); Badakhshan, Badghis, Baghlan, Balkh, Bamyan, Daykundi, Farah, Faryab, Ghazni, Ghor, Helmand, Herat, Jowzjan, Kabul, Kandahar, Kapisa, Khost, Kunar, Kunduz, Laghman, Logar, Nangarhar, Nimroz, Nuristan, Paktika, Paktiya, Panjshir, Parwan, Samangan, Sar-e Pul, Takhar, Uruzgan, Wardak, Zabul\",\"0-14 years: 40.92% (male 7,093,980/female 6,869,737)\\n15-24 years: 22.22% (male 3,859,696/female 3,723,679)\\n25-54 years: 30.35% (male 5,273,969/female 5,082,972)\\n55-64 years: 3.92% (male 659,635/female 678,942)\\n65 years and over: 2.59% (male 407,437/female 474,764) (2017 est.)\",\"opium, wheat, fruits, nuts; wool, mutton, sheepskins, lambskins, poppies\",43 (2016),\"total: 25\\nover 3,047 m: 4\\n2,438 to 3,047 m: 4\\n1,524 to 2,437 m: 14\\n914 to 1,523 m: 2\\nunder 914 m: 1 (2017)\",\"total: 18\\n2,438 to 3,047 m: 1\\n1,524 to 2,437 m: 8\\n914 to 1,523 m: 4\\nunder 914 m: 5 (2016)\",\"total: 652,230 sq km\\nland: 652,230 sq km\\nwater: 0 sq km\",almost six times the size of Virginia; slightly smaller than Texas,\"Ahmad Shah DURRANI unified the Pashtun tribes and founded Afghanistan in 1747. The country served as a buffer between the British and Russian Empires until it won independence from notional British control in 1919. A brief experiment in democracy ended in a 1973 coup and a 1978 communist countercoup. The Soviet Union invaded in 1979 to support the tottering Afghan communist regime, touching off a long and destructive war. The USSR withdrew in 1989 under relentless pressure by internationally supported anti-communist mujahidin rebels. A series of subsequent civil wars saw Kabul finally fall in 1996 to the Taliban, a hardline Pakistani-sponsored movement that emerged in 1994 to end the country\\'s civil war and anarchy. Following the 11 September 2001 terrorist attacks, a US, Allied, and anti-Taliban Northern Alliance military action toppled the Taliban for sheltering Usama BIN LADIN.\\nA UN-sponsored Bonn Conference in 2001 established a process for political reconstruction that included the adoption of a new constitution, a presidential election in 2004, and National Assembly elections in 2005. In December 2004, Hamid KARZAI became the first democratically elected president of Afghanistan, and the National Assembly was inaugurated the following December. KARZAI was reelected in August 2009 for a second term. The 2014 presidential election was the country\\'s first to include a runoff, which featured the top two vote-getters from the first round, Abdullah ABDULLAH and Ashraf GHANI. Throughout the summer of 2014, their campaigns disputed the results and traded accusations of fraud, leading to a US-led diplomatic intervention that included a full vote audit as well as political negotiations between the two camps. In September 2014, GHANI and ABDULLAH agreed to form the Government of National Unity, with GHANI inaugurated as president and ABDULLAH elevated to the newly-created position of chief executive officer. The day after the inauguration, the GHANI administration signed the US-Afghan Bilateral Security Agreement and NATO Status of Forces Agreement, which provide the legal basis for the post-2014 international military presence in Afghanistan.\\nDespite gains toward building a stable central government, the Taliban remains a serious challenge for the Afghan Government in almost every province. The Taliban still considers itself the rightful government of Afghanistan, and it remains a capable and confident insurgent force despite its last two spiritual leaders being killed; it continues to declare that it will pursue a peace deal with Kabul only after foreign military forces depart.\",\"37.9 births/1,000 population (2017 est.)\",\"state-owned broadcaster, Radio Television Afghanistan (RTA), operates a series of radio and television stations in Kabul and the provinces; an estimated 150 private radio stations, 50 TV stations, and about a dozen international broadcasters are available (2007)\",\"revenues: $1.992 billion\\nexpenditures: $6.636 billion (2016 est.)\",-24.6% of GDP (2016 est.),\"name: Kabul\\ngeographic coordinates: 34 31 N, 69 11 E\\ntime difference: UTC+4.5 (9.5 hours ahead of Washington, DC, during Standard Time)\",7.4 million Mt (2013 est.),,\"total number: 2,082,722\\npercentage: 25.3%\\nnote: data on child labor in Afghanistan is uncertain and may be higher than the estimated 25.3% of children ages 5-14 derived from 2010-11 survey results; UNICEF estimated that 30% of children ages 5-14 in 2011 were engaged in child labor (2010/11 est.)\",25% (2013),\"citizenship by birth: no\\ncitizenship by descent only: at least one parent must have been born in - and continuously lived in - Afghanistan\\ndual citizenship recognized: no\\nresidency requirement for naturalization: 5 years\",YA (2016)\\r\\nAlbania,\"12 counties (qarqe, singular - qark); Berat, Diber, Durres, Elbasan, Fier, Gjirokaster, Korce, Kukes, Lezhe, Shkoder, Tirane, Vlore\",\"0-14 years: 18.05% (male 290,572/female 259,544)\\n15-24 years: 17.47% (male 275,969/female 256,416)\\n25-54 years: 41.06% (male 597,421/female 653,965)\\n55-64 years: 11.54% (male 173,105/female 178,575)\\n65 years and over: 11.89% (male 169,681/female 192,739) (2017 est.)\",\"wheat, corn, potatoes, vegetables, fruits, olives and olive oil, grapes; meat, dairy products; sheep and goats\",4 (2016),\"total: 4\\n2,438 to 3,047 m: 3\\n1,524 to 2,437 m: 1 (2017)\",\"total: 1\\n914 to 1,523 m: 1 (2012)\",\"total: 28,748 sq km\\nland: 27,398 sq km\\nwater: 1,350 sq km\",slightly smaller than Maryland,\"Albania declared its independence from the Ottoman Empire in 1912, but was conquered by Italy in 1939 and occupied by Germany in 1943. Communist partisans took over the country in 1944. Albania allied itself first with the USSR (until 1960), and then with China (to 1978). In the early 1990s, Albania ended 46 years of xenophobic communist rule and established a multiparty democracy. The transition has proven challenging as successive governments have tried to deal with high unemployment, widespread corruption, dilapidated infrastructure, powerful organized crime networks, and combative political opponents.\\nAlbania has made progress in its democratic development since first holding multiparty elections in 1991, but deficiencies remain. Most of Albania\\'s post-communist elections were marred by claims of electoral fraud; however, international observers judged elections to be largely free and fair since the restoration of political stability following the collapse of pyramid schemes in 1997. Albania joined NATO in April 2009 and in June 2014 became a candidate for EU accession. Albania in November 2016 received a European Commission recommendation to open EU accession negotiations conditioned upon implementation of a judicial reform package passed earlier the same year. Although Albania\\'s economy continues to grow, it has slowed, and the country is still one of the poorest in Europe. A large informal economy and a weak energy and transportation infrastructure remain obstacles.\",\"13.2 births/1,000 population (2017 est.)\",\"Albania has more than 65 TV stations, including several that broadcast nationally; Albanian TV broadcasts are also available to Albanian-speaking populations in neighboring countries; many viewers have access to Italian and Greek TV broadcasts via terrestrial reception; Albania\\'s TV stations have begun a government-mandated conversion from analog to digital broadcast; the government has pledged to provide analog-to-digital converters to low-income families affected by this decision; cable TV service is available; 2 public radio networks and roughly 78 private radio stations; several international broadcasters are available (2017)\",\"revenues: $3.279 billion\\nexpenditures: $3.494 billion (2016 est.)\",-1.8% of GDP (2016 est.),\"name: Tirana (Tirane)\\ngeographic coordinates: 41 19 N, 19 49 E\\ntime difference: UTC+1 (6 hours ahead of Washington, DC, during Standard Time)\\ndaylight saving time: +1hr, begins last Sunday in March; ends last Sunday in October\",4.3 million Mt (2013 est.),\"1.25% (31 December 2016)\\n1.75% (31 December 2015)\",\"total number: 72,818\\npercentage: 12% (2005 est.)\",6.3% (2009),\"citizenship by birth: no\\ncitizenship by descent only: at least one parent must be a citizen of Albania\\ndual citizenship recognized: yes\\nresidency requirement for naturalization: 5 years\",ZA (2016)\\r\\nAlgeria,\"48 provinces (wilayas, singular - wilaya); Adrar, Ain Defla, Ain Temouchent, Alger, Annaba, Batna, Bechar, Bejaia, Biskra, Blida, Bordj Bou Arreridj, Bouira, Boumerdes, Chlef, Constantine, Djelfa, El Bayadh, El Oued, El Tarf, Ghardaia, Guelma, Illizi, Jijel, Khenchela, Laghouat, Mascara, Medea, Mila, Mostaganem, M\\'Sila, Naama, Oran, Ouargla, Oum el Bouaghi, Relizane, Saida, Setif, Sidi Bel Abbes, Skikda, Souk Ahras, Tamanrasset, Tebessa, Tiaret, Tindouf, Tipaza, Tissemsilt, Tizi Ouzou, Tlemcen\",\"0-14 years: 29.31% (male 6,148,568/female 5,858,922)\\n15-24 years: 15.3% (male 3,208,185/female 3,061,179)\\n25-54 years: 42.93% (male 8,906,160/female 8,682,894)\\n55-64 years: 6.81% (male 1,410,298/female 1,378,282)\\n65 years and over: 5.65% (male 1,079,218/female 1,235,737) (2017 est.)\",\"wheat, barley, oats, grapes, olives, citrus, fruits; sheep, cattle\",157 (2016),\"total: 64\\nover 3,047 m: 12\\n2,438 to 3,047 m: 29\\n1,524 to 2,437 m: 17\\n914 to 1,523 m: 5\\nunder 914 m: 1 (2017)\",\"total: 93\\n2,438 to 3,047 m: 2\\n1,524 to 2,437 m: 18\\n914 to 1,523 m: 39\\nunder 914 m: 34 (2013)\",\"total: 2,381,741 sq km\\nland: 2,381,741 sq km\\nwater: 0 sq km\",slightly less than 3.5 times the size of Texas,\"After more than a century of rule by France, Algerians fought through much of the 1950s to achieve independence in 1962. Algeria\\'s primary political party, the National Liberation Front (FLN), was established in 1954 as part of the struggle for independence and has since largely dominated politics. The Government of Algeria in 1988 instituted a multi-party system in response to public unrest, but the surprising first round success of the Islamic Salvation Front (FIS) in the December 1991 balloting led the Algerian army to intervene and postpone the second round of elections to prevent what the secular elite feared would be an extremist-led government from assuming power. The army began a crackdown on the FIS that spurred FIS supporters to begin attacking government targets. Fighting escalated into an insurgency, which saw intense violence from 1992-98, resulting in over 100,000 deaths - many attributed to indiscriminate massacres of villagers by extremists. The government gained the upper hand by the late-1990s, and FIS\\'s armed wing, the Islamic Salvation Army, disbanded in January 2000.\\nAbdelaziz BOUTEFLIKA, with the backing of the military, won the presidency in 1999 in an election widely viewed as fraudulent and won subsequent elections in 2004, 2009, and 2014. The government in 2011 introduced some political reforms in response to the Arab Spring, including lifting the 19-year-old state of emergency restrictions and increasing women\\'s quotas for elected assemblies, while also increasing subsidies to the populace. Since 2014, Algeria’s reliance on hydrocarbon revenues to fund the government and finance the large subsidies for the population has fallen under stress because of declining oil prices.\",\"22.2 births/1,000 population (2017 est.)\",\"state-run Radio-Television Algerienne operates the broadcast media and carries programming in Arabic, Berber dialects, and French; use of satellite dishes is widespread, providing easy access to European and Arab satellite stations; state-run radio operates several national networks and roughly 40 regional radio stations (2009)\",\"revenues: $45.37 billion\\nexpenditures: $67.48 billion (2016 est.)\",-13.8% of GDP (2016 est.),\"name: Algiers\\ngeographic coordinates: 36 45 N, 3 03 E\\ntime difference: UTC+1 (6 hours ahead of Washington, DC, during Standard Time)\",128 million Mt (2013 est.),\"4% (31 December 2010)\\n4% (31 December 2009)\",\"total number: 304,358\\npercentage: 5% (2006 est.)\",3% (2012),\"citizenship by birth: no\\ncitizenship by descent only: the mother must be a citizen of Algeria\\ndual citizenship recognized: no\\nresidency requirement for naturalization: 7 years\",7T (2016)\\r\\nAmerican Samoa,\"none (territory of the US); there are no first-order administrative divisions as defined by the US Government, but there are 3 districts and 2 islands* at the second order; Eastern, Manu\\'a, Rose Island*, Swains Island*, Western\",\"0-14 years: 30.28% (male 8,017/female 7,580)\\n15-24 years: 18.79% (male 4,846/female 4,831)\\n25-54 years: 36.38% (male 9,274/female 9,463)\\n55-64 years: 8.58% (male 2,186/female 2,232)\\n65 years and over: 5.97% (male 1,452/female 1,623) (2017 est.)\",\"bananas, coconuts, vegetables, taro, breadfruit, yams, copra, pineapples, papayas; dairy products, livestock\",3 (2016),\"total: 3\\nover 3,047 m: 1\\n914 to 1,523 m: 1\\nunder 914 m: 1 (2017)\",,\"total: 199 sq km\\nland: 199 sq km\\nwater: 0 sq km\\nnote: includes Rose Island and Swains Island\",\"slightly larger than Washington, DC\",\"Settled as early as 1000 B.C., Samoa was not reached by European explorers until the 18th century. International rivalries in the latter half of the 19th century were settled by an 1899 treaty in which Germany and the US divided the Samoan archipelago. The US formally occupied its portion - a smaller group of eastern islands with the excellent harbor of Pago Pago - the following year.\",\"19.6 births/1,000 population (2017 est.)\",\"3 TV stations; multi-channel pay TV services are available; about a dozen radio stations, some of which are repeater stations (2009)\",\"revenues: $241.2 million\\nexpenditures: $243.7 million (2013 est.)\",-0.3% of GDP (2013 est.),\"name: Pago Pago\\ngeographic coordinates: 14 16 S, 170 42 W\\ntime difference: UTC-11 (6 hours behind Washington, DC, during Standard Time)\",\"600,000 Mt (2013 est.)\",,,,see United States,\\r\\nAndorra,\"7 parishes (parroquies, singular - parroquia); Andorra la Vella, Canillo, Encamp, Escaldes-Engordany, La Massana, Ordino, Sant Julia de Loria\",\"0-14 years: 14.4% (male 6,340/female 6,003)\\n15-24 years: 9.64% (male 4,289/female 3,976)\\n25-54 years: 46.18% (male 20,233/female 19,348)\\n55-64 years: 14.16% (male 6,458/female 5,677)\\n65 years and over: 15.61% (male 6,788/female 6,590) (2017 est.)\",\"small quantities of rye, wheat, barley, oats, vegetables, tobacco; sheep, cattle\",,,,\"total: 468 sq km\\nland: 468 sq km\\nwater: 0 sq km\",\"2.5 times the size of Washington, DC\",\"The landlocked Principality of Andorra is one of the smallest states in Europe, nestled high in the Pyrenees between the French and Spanish borders. For 715 years, from 1278 to 1993, Andorrans lived under a unique coprincipality, ruled by French and Spanish leaders (from 1607 onward, the French chief of state and the Bishop of Urgell). In 1993, this feudal system was modified with the introduction of a modern, constitution; the co-princes remained as titular heads of state, but the government transformed into a parliamentary democracy.\\nAndorra has become a popular tourist destination visited by approximately 8 million people each year drawn by the winter sports, summer climate, and duty-free shopping. Andorra has also become a wealthy international commercial center because of its mature banking sector and low taxes. As part of its effort to modernize its economy, Andorra has opened to foreign investment, and engaged in other reforms, such as advancing tax initiatives aimed at supporting a broader infrastructure. Although not a member of the EU, Andorra enjoys a special relationship with the organization and uses the euro as its national currency.\",\"7.5 births/1,000 population (2017 est.)\",1 public TV station and 2 public radio stations; about 10 commercial radio stations; good reception of radio and TV broadcasts from stations in France and Spain; upgraded to terrestrial digital TV broadcasting in 2007; roughly 25 international TV channels available (2016),\"revenues: $1.872 billion\\nexpenditures: $2.06 billion (2016)\",-6.9% of GDP (2016),\"name: Andorra la Vella\\ngeographic coordinates: 42 30 N, 1 31 E\\ntime difference: UTC+1 (6 hours ahead of Washington, DC during Standard Time)\\ndaylight saving time: +1hr, begins last Sunday in March; ends last Sunday in October\",,,,,\"citizenship by birth: no\\ncitizenship by descent only: the mother must be an Andorran citizen or the father must have been born in Andorra and both parents maintain permanent residence in Andorra\\ndual citizenship recognized: no\\nresidency requirement for naturalization: 25 years\",C3 (2016)\\r\\n'"
      ]
     },
     "execution_count": 211,
     "metadata": {},
     "output_type": "execute_result"
    }
   ],
   "source": [
    "web_scrape.to_csv()"
   ]
  },
  {
   "cell_type": "code",
   "execution_count": null,
   "metadata": {},
   "outputs": [],
   "source": []
  },
  {
   "cell_type": "code",
   "execution_count": null,
   "metadata": {},
   "outputs": [],
   "source": []
  }
 ],
 "metadata": {
  "kernelspec": {
   "display_name": "Python 3",
   "language": "python",
   "name": "python3"
  },
  "language_info": {
   "codemirror_mode": {
    "name": "ipython",
    "version": 3
   },
   "file_extension": ".py",
   "mimetype": "text/x-python",
   "name": "python",
   "nbconvert_exporter": "python",
   "pygments_lexer": "ipython3",
   "version": "3.7.6"
  }
 },
 "nbformat": 4,
 "nbformat_minor": 4
}

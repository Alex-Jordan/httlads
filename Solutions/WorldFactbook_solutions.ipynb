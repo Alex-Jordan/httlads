{
 "cells": [
  {
   "cell_type": "code",
   "execution_count": 736,
   "metadata": {},
   "outputs": [],
   "source": [
    "%matplotlib inline\n",
    "\n",
    "import pandas as pd\n",
    "import matplotlib\n",
    "import matplotlib.pyplot as plt\n",
    "import psycopg2\n",
    "import textatistic\n",
    "import seaborn as sbn\n",
    "from altair import Chart, X, Y, Color, Scale\n",
    "import altair as alt\n",
    "from vega_datasets import data\n",
    "import requests\n",
    "from bs4 import BeautifulSoup\n",
    "matplotlib.style.use('ggplot')\n",
    "# for plotly py.offline.init_notebook_mode()"
   ]
  },
  {
   "cell_type": "markdown",
   "metadata": {},
   "source": [
    "### Loading the data"
   ]
  },
  {
   "cell_type": "code",
   "execution_count": 737,
   "metadata": {},
   "outputs": [],
   "source": [
    "YEAR = 2012"
   ]
  },
  {
   "cell_type": "code",
   "execution_count": 738,
   "metadata": {},
   "outputs": [],
   "source": [
    "# delete\n",
    "with open('/Users/bradleymiller/Runestone/Research/factbook/{}/docs/notesanddefs.html'.format(YEAR)) as wff:\n",
    "    field_list = BeautifulSoup(wff.read())\n",
    "    "
   ]
  },
  {
   "cell_type": "code",
   "execution_count": 739,
   "metadata": {},
   "outputs": [],
   "source": [
    "fl = field_list.select('div[name]')"
   ]
  },
  {
   "cell_type": "code",
   "execution_count": 740,
   "metadata": {},
   "outputs": [],
   "source": [
    "import re\n",
    "if YEAR < 2015:\n",
    "    cfield = 'table'\n",
    "else:\n",
    "    cfield = 'div'\n",
    "    \n",
    "fl = field_list.find_all(cfield, id=re.compile(\"^\\d+$\") )"
   ]
  },
  {
   "cell_type": "code",
   "execution_count": 741,
   "metadata": {},
   "outputs": [
    {
     "data": {
      "text/plain": [
       "'Administrative divisions'"
      ]
     },
     "execution_count": 741,
     "metadata": {},
     "output_type": "execute_result"
    }
   ],
   "source": [
    "fl[0].select('td')[0].text"
   ]
  },
  {
   "cell_type": "code",
   "execution_count": 742,
   "metadata": {},
   "outputs": [
    {
     "data": {
      "text/plain": [
       "173"
      ]
     },
     "execution_count": 742,
     "metadata": {},
     "output_type": "execute_result"
    }
   ],
   "source": [
    "len(fl)"
   ]
  },
  {
   "cell_type": "code",
   "execution_count": 743,
   "metadata": {},
   "outputs": [
    {
     "name": "stdout",
     "output_type": "stream",
     "text": [
      "2051 Administrative divisions\n",
      "2010 Age structure\n",
      "2052 Agriculture - products\n",
      "2053 Airports\n",
      "2030 Airports - with paved runways\n",
      "2031 Airports - with unpaved runways\n",
      "2147 Area\n",
      "2023 Area - comparative\n",
      "2028 Background\n",
      "2054 Birth rate\n",
      "2213 Broadcast media\n",
      "2056 Budget\n",
      "2222 Budget surplus (+) or deficit (-)\n",
      "2057 Capital\n",
      "2254 Carbon dioxide emissions from consumption of energy\n",
      "2207 Central bank discount rate\n",
      "2224 Children under the age of 5 years underweight\n",
      "2059 Climate\n",
      "2060 Coastline\n",
      "2208 Commercial bank prime lending rate\n",
      "2138 Communications - note\n",
      "2063 Constitution\n",
      "2142 Country name\n",
      "2242 Crude oil - exports\n",
      "2243 Crude oil - imports\n",
      "2241 Crude oil - production\n",
      "2244 Crude oil - proved reserves\n",
      "2187 Current account balance\n",
      "2066 Death rate\n",
      "2079 Debt - external\n",
      "2257 Demographic profile\n",
      "2006 Dependency status\n",
      "2068 Dependent areas\n",
      "2007 Diplomatic representation from the US\n",
      "2149 Diplomatic representation in the US\n",
      "2070 Disputes - international\n",
      "2172 Distribution of family income - Gini index\n",
      "2216 Drinking water source\n",
      "2116 Economy - overview\n",
      "2206 Education expenditures\n",
      "2233 Electricity - consumption\n",
      "2234 Electricity - exports\n",
      "2237 Electricity - from fossil fuels\n",
      "2238 Electricity - from hydroelectric plants\n",
      "2239 Electricity - from nuclear fuels\n",
      "2240 Electricity - from other renewable sources\n",
      "2235 Electricity - imports\n",
      "2236 Electricity - installed generating capacity\n",
      "2232 Electricity - production\n",
      "2020 Elevation extremes\n",
      "2032 Environment - current issues\n",
      "2033 Environment - international agreements\n",
      "2075 Ethnic groups\n",
      "2076 Exchange rates\n",
      "2077 Executive branch\n",
      "2078 Exports\n",
      "2049 Exports - commodities\n",
      "2050 Exports - partners\n",
      "2080 Fiscal year\n",
      "2081 Flag description\n",
      "2202 Freshwater withdrawal (domestic/industrial/agricultural)\n",
      "2195 GDP (official exchange rate)\n",
      "2001 GDP (purchasing power parity)\n",
      "2012 GDP - composition by sector\n",
      "2004 GDP - per capita (PPP)\n",
      "2003 GDP - real growth rate\n",
      "2011 Geographic coordinates\n",
      "2113 Geography - note\n",
      "2140 Government - note\n",
      "2128 Government type\n",
      "2225 Health expenditures\n",
      "2019 Heliports\n",
      "2155 HIV/AIDS - adult prevalence rate\n",
      "2157 HIV/AIDS - deaths\n",
      "2156 HIV/AIDS - people living with HIV/AIDS\n",
      "2227 Hospital bed density\n",
      "2047 Household income or consumption by percentage share\n",
      "2086 Illicit drugs\n",
      "2087 Imports\n",
      "2058 Imports - commodities\n",
      "2061 Imports - partners\n",
      "2088 Independence\n",
      "2089 Industrial production growth rate\n",
      "2090 Industries\n",
      "2091 Infant mortality rate\n",
      "2092 Inflation rate (consumer prices)\n",
      "2220 International law organization participation\n",
      "2107 International organization participation\n",
      "2154 Internet country code\n",
      "2184 Internet hosts\n",
      "2153 Internet users\n",
      "2185 Investment (gross fixed)\n",
      "2146 Irrigated land\n",
      "2094 Judicial branch\n",
      "2095 Labor force\n",
      "2048 Labor force - by occupation\n",
      "2096 Land boundaries\n",
      "2097 Land use\n",
      "2098 Languages\n",
      "2100 Legal system\n",
      "2101 Legislative branch\n",
      "2102 Life expectancy at birth\n",
      "2103 Literacy\n",
      "2144 Location\n",
      "2219 Major cities - population\n",
      "2193 Major infectious diseases\n",
      "2105 Manpower available for military service\n",
      "2025 Manpower fit for military service\n",
      "2026 Manpower reaching militarily significant age annually\n",
      "2145 Map references\n",
      "2106 Maritime claims\n",
      "2200 Market value of publicly traded shares\n",
      "2223 Maternal mortality rate\n",
      "2177 Median age\n",
      "2108 Merchant marine\n",
      "2137 Military - note\n",
      "2055 Military branches\n",
      "2034 Military expenditures\n",
      "2024 Military service age and obligation\n",
      "2218 National anthem\n",
      "2109 National holiday\n",
      "2230 National symbol(s)\n",
      "2110 Nationality\n",
      "2250 Natural gas - consumption\n",
      "2251 Natural gas - exports\n",
      "2252 Natural gas - imports\n",
      "2249 Natural gas - production\n",
      "2253 Natural gas - proved reserves\n",
      "2021 Natural hazards\n",
      "2111 Natural resources\n",
      "2112 Net migration rate\n",
      "2228 Obesity - adult prevalence rate\n",
      "2022 People - note\n",
      "2226 Physicians density\n",
      "2117 Pipelines\n",
      "2118 Political parties and leaders\n",
      "2115 Political pressure groups and leaders\n",
      "2119 Population\n",
      "2046 Population below poverty line\n",
      "2002 Population growth rate\n",
      "2120 Ports and terminals\n",
      "2186 Public debt\n",
      "2121 Railways\n",
      "2246 Refined petroleum products - consumption\n",
      "2247 Refined petroleum products - exports\n",
      "2248 Refined petroleum products - imports\n",
      "2245 Refined petroleum products - production\n",
      "2194 Refugees and internally displaced persons\n",
      "2122 Religions\n",
      "2188 Reserves of foreign exchange and gold\n",
      "2085 Roadways\n",
      "2217 Sanitation facility access\n",
      "2205 School life expectancy (primary to tertiary education)\n",
      "2018 Sex ratio\n",
      "2215 Stock of broad money\n",
      "2199 Stock of direct foreign investment - abroad\n",
      "2198 Stock of direct foreign investment - at home\n",
      "2211 Stock of domestic credit\n",
      "2214 Stock of narrow money\n",
      "2123 Suffrage\n",
      "2221 Taxes and other revenues\n",
      "2124 Telephone system\n",
      "2150 Telephones - main lines in use\n",
      "2151 Telephones - mobile cellular\n",
      "2125 Terrain\n",
      "2127 Total fertility rate\n",
      "2201 Total renewable water resources\n",
      "2196 Trafficking in persons\n",
      "2008 Transportation - note\n",
      "2129 Unemployment rate\n",
      "2229 Unemployment, youth ages 15-24\n",
      "2212 Urbanization\n",
      "2093 Waterways\n"
     ]
    }
   ],
   "source": [
    "for f in fl:\n",
    "    print(f['id'], f.select('td')[0].text)\n",
    "    "
   ]
  },
  {
   "cell_type": "code",
   "execution_count": 744,
   "metadata": {},
   "outputs": [],
   "source": [
    "required_columns = [\n",
    "'Population',\n",
    "'Area', \n",
    "'Coastline', \n",
    "'Climate',\n",
    "'Net migration',\n",
    "'Birth rate',\n",
    "'Death rate',\n",
    "'Infant mortality rate',\n",
    "'Literacy',\n",
    "'GDP (purchasing power parity)',\n",
    "'Government type',\n",
    "'Inflation rate',\n",
    "'Health expenditures',\n",
    "'GDP - composition, by sector of origin',\n",
    "'Internet users'\n",
    "]"
   ]
  },
  {
   "cell_type": "code",
   "execution_count": 766,
   "metadata": {},
   "outputs": [],
   "source": [
    "data = {}\n",
    "if YEAR < 2015:  # this still needs some work!!\n",
    "    outer_table = 'table#fieldlisting'\n",
    "    inner_cell  = 'td.category_data'\n",
    "    inner_table = 'table[id]'\n",
    "else:\n",
    "    outer_table = 'table#fieldListing'\n",
    "    inner_cell = 'td.fieldData'\n",
    "    inner_table = 'tr'\n",
    "for f in fl:\n",
    "    field_name = f.select_one('td').text\n",
    "    if field_name in required_columns:\n",
    "        data[field_name] = {}\n",
    "        with open('/Users/bradleymiller/Runestone/Research/factbook/{}/fields/{}.html'.format(YEAR, f['id'])) as xf:\n",
    "            soup = BeautifulSoup(xf.read())\n",
    "            if YEAR > 2015:\n",
    "                cl = soup.select_one(outer_table).select(inner_table)\n",
    "                for country in cl[1:]:\n",
    "                    two_letter = country['id']\n",
    "                    data[field_name][two_letter] = country.select_one(inner_cell).text.strip()\n",
    "            else:\n",
    "                cl = soup.select('table[id]')\n",
    "                for country in cl[4:]:\n",
    "                    two_letter = country.select_one('td a[name]')['name']\n",
    "                    data[field_name][two_letter] = country.select_one('td.category_data').text.strip()\n",
    "                \n",
    "            "
   ]
  },
  {
   "cell_type": "code",
   "execution_count": 746,
   "metadata": {},
   "outputs": [],
   "source": [
    "text = open('/Users/bradleymiller/Runestone/Research/factbook/{}/fields/{}.html'.format(YEAR, '2154')).read()\n"
   ]
  },
  {
   "cell_type": "code",
   "execution_count": 747,
   "metadata": {},
   "outputs": [],
   "source": [
    "soup = BeautifulSoup(text)"
   ]
  },
  {
   "cell_type": "code",
   "execution_count": 748,
   "metadata": {},
   "outputs": [],
   "source": [
    "cl = soup.select_one(outer_table).select(inner_table)\n",
    "\n"
   ]
  },
  {
   "cell_type": "code",
   "execution_count": 749,
   "metadata": {},
   "outputs": [],
   "source": [
    "data['Country'] = {}\n",
    "for country in cl[1:]:\n",
    "    two_letter = country['id']\n",
    "    data['Country'][two_letter] = country.select_one('td a').text.strip()\n",
    "\n",
    "    "
   ]
  },
  {
   "cell_type": "code",
   "execution_count": 750,
   "metadata": {},
   "outputs": [],
   "source": [
    "facts = pd.DataFrame(data)"
   ]
  },
  {
   "cell_type": "code",
   "execution_count": null,
   "metadata": {},
   "outputs": [],
   "source": []
  },
  {
   "cell_type": "code",
   "execution_count": 751,
   "metadata": {},
   "outputs": [
    {
     "ename": "AttributeError",
     "evalue": "Can only use .str accessor with string values, which use np.object_ dtype in pandas",
     "output_type": "error",
     "traceback": [
      "\u001b[0;31m---------------------------------------------------------------------------\u001b[0m",
      "\u001b[0;31mAttributeError\u001b[0m                            Traceback (most recent call last)",
      "\u001b[0;32m<ipython-input-751-2b6b6c3be639>\u001b[0m in \u001b[0;36m<module>\u001b[0;34m\u001b[0m\n\u001b[0;32m----> 1\u001b[0;31m \u001b[0mfacts\u001b[0m\u001b[0;34m[\u001b[0m\u001b[0;34m'Area'\u001b[0m\u001b[0;34m]\u001b[0m \u001b[0;34m=\u001b[0m \u001b[0mfacts\u001b[0m\u001b[0;34m.\u001b[0m\u001b[0mArea\u001b[0m\u001b[0;34m.\u001b[0m\u001b[0mstr\u001b[0m\u001b[0;34m.\u001b[0m\u001b[0mreplace\u001b[0m\u001b[0;34m(\u001b[0m\u001b[0;34m'\\s[mb]illion'\u001b[0m\u001b[0;34m,\u001b[0m\u001b[0;34m'000000'\u001b[0m\u001b[0;34m)\u001b[0m\u001b[0;34m.\u001b[0m\u001b[0mstr\u001b[0m\u001b[0;34m.\u001b[0m\u001b[0mextract\u001b[0m\u001b[0;34m(\u001b[0m\u001b[0;34m'total: ?([0-9,.]+) sq km'\u001b[0m\u001b[0;34m)\u001b[0m\u001b[0;34m[\u001b[0m\u001b[0;36m0\u001b[0m\u001b[0;34m]\u001b[0m\u001b[0;34m.\u001b[0m\u001b[0mstr\u001b[0m\u001b[0;34m.\u001b[0m\u001b[0mreplace\u001b[0m\u001b[0;34m(\u001b[0m\u001b[0;34m','\u001b[0m\u001b[0;34m,\u001b[0m\u001b[0;34m''\u001b[0m\u001b[0;34m)\u001b[0m\u001b[0;34m.\u001b[0m\u001b[0mastype\u001b[0m\u001b[0;34m(\u001b[0m\u001b[0mfloat\u001b[0m\u001b[0;34m)\u001b[0m\u001b[0;34m\u001b[0m\u001b[0m\n\u001b[0m\u001b[1;32m      2\u001b[0m \u001b[0;31m#facts.Area.str.extract('total: ?([0-9,.]+) sq km')\u001b[0m\u001b[0;34m\u001b[0m\u001b[0;34m\u001b[0m\u001b[0m\n",
      "\u001b[0;32m~/.local/share/virtualenvs/Research-pR57-Mv_/lib/python3.6/site-packages/pandas/core/generic.py\u001b[0m in \u001b[0;36m__getattr__\u001b[0;34m(self, name)\u001b[0m\n\u001b[1;32m   4370\u001b[0m         if (name in self._internal_names_set or name in self._metadata or\n\u001b[1;32m   4371\u001b[0m                 name in self._accessors):\n\u001b[0;32m-> 4372\u001b[0;31m             \u001b[0;32mreturn\u001b[0m \u001b[0mobject\u001b[0m\u001b[0;34m.\u001b[0m\u001b[0m__getattribute__\u001b[0m\u001b[0;34m(\u001b[0m\u001b[0mself\u001b[0m\u001b[0;34m,\u001b[0m \u001b[0mname\u001b[0m\u001b[0;34m)\u001b[0m\u001b[0;34m\u001b[0m\u001b[0m\n\u001b[0m\u001b[1;32m   4373\u001b[0m         \u001b[0;32melse\u001b[0m\u001b[0;34m:\u001b[0m\u001b[0;34m\u001b[0m\u001b[0m\n\u001b[1;32m   4374\u001b[0m             \u001b[0;32mif\u001b[0m \u001b[0mself\u001b[0m\u001b[0;34m.\u001b[0m\u001b[0m_info_axis\u001b[0m\u001b[0;34m.\u001b[0m\u001b[0m_can_hold_identifiers_and_holds_name\u001b[0m\u001b[0;34m(\u001b[0m\u001b[0mname\u001b[0m\u001b[0;34m)\u001b[0m\u001b[0;34m:\u001b[0m\u001b[0;34m\u001b[0m\u001b[0m\n",
      "\u001b[0;32m~/.local/share/virtualenvs/Research-pR57-Mv_/lib/python3.6/site-packages/pandas/core/accessor.py\u001b[0m in \u001b[0;36m__get__\u001b[0;34m(self, obj, cls)\u001b[0m\n\u001b[1;32m    131\u001b[0m             \u001b[0;31m# we're accessing the attribute of the class, i.e., Dataset.geo\u001b[0m\u001b[0;34m\u001b[0m\u001b[0;34m\u001b[0m\u001b[0m\n\u001b[1;32m    132\u001b[0m             \u001b[0;32mreturn\u001b[0m \u001b[0mself\u001b[0m\u001b[0;34m.\u001b[0m\u001b[0m_accessor\u001b[0m\u001b[0;34m\u001b[0m\u001b[0m\n\u001b[0;32m--> 133\u001b[0;31m         \u001b[0maccessor_obj\u001b[0m \u001b[0;34m=\u001b[0m \u001b[0mself\u001b[0m\u001b[0;34m.\u001b[0m\u001b[0m_accessor\u001b[0m\u001b[0;34m(\u001b[0m\u001b[0mobj\u001b[0m\u001b[0;34m)\u001b[0m\u001b[0;34m\u001b[0m\u001b[0m\n\u001b[0m\u001b[1;32m    134\u001b[0m         \u001b[0;31m# Replace the property with the accessor object. Inspired by:\u001b[0m\u001b[0;34m\u001b[0m\u001b[0;34m\u001b[0m\u001b[0m\n\u001b[1;32m    135\u001b[0m         \u001b[0;31m# http://www.pydanny.com/cached-property.html\u001b[0m\u001b[0;34m\u001b[0m\u001b[0;34m\u001b[0m\u001b[0m\n",
      "\u001b[0;32m~/.local/share/virtualenvs/Research-pR57-Mv_/lib/python3.6/site-packages/pandas/core/strings.py\u001b[0m in \u001b[0;36m__init__\u001b[0;34m(self, data)\u001b[0m\n\u001b[1;32m   1893\u001b[0m \u001b[0;34m\u001b[0m\u001b[0m\n\u001b[1;32m   1894\u001b[0m     \u001b[0;32mdef\u001b[0m \u001b[0m__init__\u001b[0m\u001b[0;34m(\u001b[0m\u001b[0mself\u001b[0m\u001b[0;34m,\u001b[0m \u001b[0mdata\u001b[0m\u001b[0;34m)\u001b[0m\u001b[0;34m:\u001b[0m\u001b[0;34m\u001b[0m\u001b[0m\n\u001b[0;32m-> 1895\u001b[0;31m         \u001b[0mself\u001b[0m\u001b[0;34m.\u001b[0m\u001b[0m_validate\u001b[0m\u001b[0;34m(\u001b[0m\u001b[0mdata\u001b[0m\u001b[0;34m)\u001b[0m\u001b[0;34m\u001b[0m\u001b[0m\n\u001b[0m\u001b[1;32m   1896\u001b[0m         \u001b[0mself\u001b[0m\u001b[0;34m.\u001b[0m\u001b[0m_is_categorical\u001b[0m \u001b[0;34m=\u001b[0m \u001b[0mis_categorical_dtype\u001b[0m\u001b[0;34m(\u001b[0m\u001b[0mdata\u001b[0m\u001b[0;34m)\u001b[0m\u001b[0;34m\u001b[0m\u001b[0m\n\u001b[1;32m   1897\u001b[0m \u001b[0;34m\u001b[0m\u001b[0m\n",
      "\u001b[0;32m~/.local/share/virtualenvs/Research-pR57-Mv_/lib/python3.6/site-packages/pandas/core/strings.py\u001b[0m in \u001b[0;36m_validate\u001b[0;34m(data)\u001b[0m\n\u001b[1;32m   1915\u001b[0m             \u001b[0;31m# (instead of test for object dtype), but that isn't practical for\u001b[0m\u001b[0;34m\u001b[0m\u001b[0;34m\u001b[0m\u001b[0m\n\u001b[1;32m   1916\u001b[0m             \u001b[0;31m# performance reasons until we have a str dtype (GH 9343)\u001b[0m\u001b[0;34m\u001b[0m\u001b[0;34m\u001b[0m\u001b[0m\n\u001b[0;32m-> 1917\u001b[0;31m             raise AttributeError(\"Can only use .str accessor with string \"\n\u001b[0m\u001b[1;32m   1918\u001b[0m                                  \u001b[0;34m\"values, which use np.object_ dtype in \"\u001b[0m\u001b[0;34m\u001b[0m\u001b[0m\n\u001b[1;32m   1919\u001b[0m                                  \"pandas\")\n",
      "\u001b[0;31mAttributeError\u001b[0m: Can only use .str accessor with string values, which use np.object_ dtype in pandas"
     ]
    }
   ],
   "source": [
    "facts['Area'] = facts.Area.str.replace('\\s[mb]illion','000000').str.extract('total: ?([0-9,.]+) sq km')[0].str.replace(',','').astype(float)\n",
    "#facts.Area.str.extract('total: ?([0-9,.]+) sq km')"
   ]
  },
  {
   "cell_type": "code",
   "execution_count": null,
   "metadata": {},
   "outputs": [],
   "source": [
    "facts['Birth rate'] = facts['Birth rate'].str.extract('([0-9.,]+) births.*').astype(float)"
   ]
  },
  {
   "cell_type": "code",
   "execution_count": null,
   "metadata": {},
   "outputs": [],
   "source": [
    "facts['Coastline'] = facts.Coastline.str.extract('([0-9,.]+)')\n",
    "facts['Coastline'] = facts.Coastline.str.replace(',','').astype(float)"
   ]
  },
  {
   "cell_type": "code",
   "execution_count": null,
   "metadata": {},
   "outputs": [],
   "source": [
    "facts.head()"
   ]
  },
  {
   "cell_type": "code",
   "execution_count": null,
   "metadata": {},
   "outputs": [],
   "source": [
    "facts['Death rate'] = facts['Death rate'].str.extract('([0-9.,]+) deaths.*').astype(float)"
   ]
  },
  {
   "cell_type": "code",
   "execution_count": null,
   "metadata": {},
   "outputs": [],
   "source": [
    "facts['GDP'] = facts['GDP (purchasing power parity)'].str.extract('\\$([0-9.,]+ [bmtr]+illion).*')\n"
   ]
  },
  {
   "cell_type": "code",
   "execution_count": null,
   "metadata": {},
   "outputs": [],
   "source": [
    "facts['GDP'] = facts.GDP.str.replace(' million','e6')\n",
    "facts['GDP'] = facts.GDP.str.replace(' billion','e9')\n",
    "facts['GDP'] = facts.GDP.str.replace(' trillion','e12')      "
   ]
  },
  {
   "cell_type": "code",
   "execution_count": null,
   "metadata": {},
   "outputs": [],
   "source": [
    "facts['GDP'] = facts.GDP.astype(float)"
   ]
  },
  {
   "cell_type": "code",
   "execution_count": null,
   "metadata": {},
   "outputs": [],
   "source": [
    "facts.drop('GDP (purchasing power parity)',axis=1, inplace=True)"
   ]
  },
  {
   "cell_type": "markdown",
   "metadata": {},
   "source": [
    "Let's convert health expenditures to a real $ now if we want to know percentages we can always convert back later"
   ]
  },
  {
   "cell_type": "code",
   "execution_count": null,
   "metadata": {},
   "outputs": [],
   "source": [
    "facts['Health expenditures'] = facts['Health expenditures'].str.extract('([0-9.]+)% of GDP').astype(float) * 0.01\n"
   ]
  },
  {
   "cell_type": "code",
   "execution_count": null,
   "metadata": {},
   "outputs": [],
   "source": [
    "facts['Health expenditures'] = facts['Health expenditures'] * facts.GDP.astype(float)"
   ]
  },
  {
   "cell_type": "code",
   "execution_count": null,
   "metadata": {},
   "outputs": [],
   "source": [
    "facts.head()"
   ]
  },
  {
   "cell_type": "code",
   "execution_count": null,
   "metadata": {},
   "outputs": [],
   "source": [
    "facts['Internet users'] = facts['Internet users'].str.extract('total: ([0-9,]+)')\n",
    "facts['Internet users'] = facts['Internet users'].str.replace(',','').astype(float)"
   ]
  },
  {
   "cell_type": "code",
   "execution_count": null,
   "metadata": {},
   "outputs": [],
   "source": []
  },
  {
   "cell_type": "code",
   "execution_count": null,
   "metadata": {},
   "outputs": [],
   "source": [
    "facts['GDP - composition, by sector of origin'] = facts['GDP - composition, by sector of origin'].str.replace('\\n',' ')\n",
    "gdp_split = facts['GDP - composition, by sector of origin'].str.extract('agriculture:\\s(?P<agriculture>[0-9.]+)%.*industry:\\s(?P<industry>[0-9.]+)%.*services:\\s(?P<service>[0-9.]+)%.*')\n",
    "facts = facts.merge(gdp_split, left_index=True, right_index=True)\n",
    "facts.drop('GDP - composition, by sector of origin', axis=1, inplace=True)\n",
    "facts.head()"
   ]
  },
  {
   "cell_type": "code",
   "execution_count": null,
   "metadata": {},
   "outputs": [],
   "source": [
    "facts['Literacy'] = facts.Literacy.str.extract('.*population:\\s([0-9.]+)%').astype(float)\n"
   ]
  },
  {
   "cell_type": "code",
   "execution_count": null,
   "metadata": {},
   "outputs": [],
   "source": [
    "facts['Population'] = facts.Population.str.extract('([0-9,.]+)')\n",
    "facts['Population'] = facts.Population.str.replace(',','')\n",
    "facts['Population'] = facts.Population.map(lambda x: 'NaN' if x == '' else x).astype(float)"
   ]
  },
  {
   "cell_type": "code",
   "execution_count": null,
   "metadata": {},
   "outputs": [],
   "source": [
    "facts['Infant mortality rate'] = facts['Infant mortality rate'].str.extract('total: ([0-9.]+)').astype(float)"
   ]
  },
  {
   "cell_type": "code",
   "execution_count": null,
   "metadata": {},
   "outputs": [],
   "source": [
    "facts['Year'] = YEAR"
   ]
  },
  {
   "cell_type": "code",
   "execution_count": null,
   "metadata": {},
   "outputs": [],
   "source": [
    "facts.to_csv('factbook{}.csv'.format(YEAR), index_label='Code2')"
   ]
  },
  {
   "cell_type": "code",
   "execution_count": null,
   "metadata": {},
   "outputs": [],
   "source": []
  }
 ],
 "metadata": {
  "kernelspec": {
   "display_name": "Python 3",
   "language": "python",
   "name": "python3"
  },
  "language_info": {
   "codemirror_mode": {
    "name": "ipython",
    "version": 3
   },
   "file_extension": ".py",
   "mimetype": "text/x-python",
   "name": "python",
   "nbconvert_exporter": "python",
   "pygments_lexer": "ipython3",
   "version": "3.6.4"
  }
 },
 "nbformat": 4,
 "nbformat_minor": 2
}

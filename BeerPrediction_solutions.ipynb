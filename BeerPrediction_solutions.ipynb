{
 "cells": [
  {
   "cell_type": "markdown",
   "metadata": {},
   "source": [
    "# Solutions for Beer Predictions\n"
   ]
  },
  {
   "cell_type": "code",
   "execution_count": 1,
   "metadata": {},
   "outputs": [
    {
     "data": {
      "application/javascript": [
       "IPython.notebook.set_autosave_interval(0)"
      ]
     },
     "metadata": {},
     "output_type": "display_data"
    },
    {
     "name": "stdout",
     "output_type": "stream",
     "text": [
      "Autosave disabled\n"
     ]
    }
   ],
   "source": [
    "%autosave 0"
   ]
  },
  {
   "cell_type": "code",
   "execution_count": 2,
   "metadata": {},
   "outputs": [],
   "source": [
    "%matplotlib inline\n",
    "import string\n",
    "from  collections import Counter\n",
    "import pandas as pd\n",
    "import numpy as np\n",
    "import matplotlib\n",
    "import matplotlib.pyplot as plt\n",
    "import psycopg2\n",
    "import seaborn as sbn\n",
    "from altair import Chart, X, Y, Color, Scale\n",
    "import altair as alt\n",
    "import requests\n",
    "import nltk\n",
    "from nltk.corpus import stopwords \n",
    "from sklearn.model_selection import train_test_split\n",
    "from sklearn.linear_model import LinearRegression, LogisticRegression\n",
    "from sklearn.metrics import accuracy_score\n",
    "from sklearn.preprocessing import StandardScaler, MinMaxScaler\n",
    "from graphviz import Digraph\n",
    "\n",
    "matplotlib.style.use('ggplot')\n"
   ]
  },
  {
   "cell_type": "code",
   "execution_count": null,
   "metadata": {},
   "outputs": [],
   "source": []
  },
  {
   "cell_type": "code",
   "execution_count": 388,
   "metadata": {},
   "outputs": [],
   "source": [
    "c = Counter()\n",
    "_ = bf[bf['review/overall'] < 3.5].text_list.map(lambda x  : c.update([y for y in x if y not in sw]))\n",
    "bad_beer_words = set([w[0] for w in c.most_common(200)])"
   ]
  },
  {
   "cell_type": "code",
   "execution_count": 389,
   "metadata": {},
   "outputs": [],
   "source": [
    "c = Counter()\n",
    "_ = bf[bf['review/overall'] >= 3.5].text_list.map(lambda x  : c.update([y for y in x if y not in sw]))\n",
    "good_beer_words = set([w[0] for w in c.most_common(200)])"
   ]
  },
  {
   "cell_type": "code",
   "execution_count": 390,
   "metadata": {},
   "outputs": [
    {
     "data": {
      "text/plain": [
       "{'3',\n",
       " 'actually',\n",
       " 'average',\n",
       " 'brewery',\n",
       " 'bubbles',\n",
       " 'carbonated',\n",
       " 'cherry',\n",
       " 'else',\n",
       " 'expected',\n",
       " 'faint',\n",
       " 'go',\n",
       " 'going',\n",
       " 'gold',\n",
       " 'got',\n",
       " 'grain',\n",
       " 'grainy',\n",
       " 'hard',\n",
       " 'honey',\n",
       " 'interesting',\n",
       " 'kind',\n",
       " 'lager',\n",
       " 'looking',\n",
       " 'looks',\n",
       " 'metallic',\n",
       " 'ok',\n",
       " 'probably',\n",
       " 'rather',\n",
       " 'say',\n",
       " 'seems',\n",
       " 'somewhat',\n",
       " 'sour',\n",
       " 'watery',\n",
       " 'weak',\n",
       " 'wheat',\n",
       " 'yeast',\n",
       " 'yellow'}"
      ]
     },
     "execution_count": 390,
     "metadata": {},
     "output_type": "execute_result"
    }
   ],
   "source": [
    "bad_beer_words - good_beer_words"
   ]
  },
  {
   "cell_type": "code",
   "execution_count": 423,
   "metadata": {},
   "outputs": [],
   "source": [
    "#my_bb_words = ['horrible', 'terrible', 'bad', 'nasty', 'gross', 'average', 'carbonated', 'interesting', 'cherry', 'faint', 'grain', 'metallic', 'watery', 'sour', 'weak', 'wheat', 'yeast', 'yellow']\n",
    "manual_bb_words = set(['horrible', 'terrible', 'nasty', 'gross', 'bad'])\n",
    "my_bb_words = list(bad_beer_words - good_beer_words | manual_bb_words)"
   ]
  },
  {
   "cell_type": "code",
   "execution_count": 392,
   "metadata": {},
   "outputs": [
    {
     "data": {
      "text/plain": [
       "{'4',\n",
       " 'balanced',\n",
       " 'burnt',\n",
       " 'colored',\n",
       " 'come',\n",
       " 'complex',\n",
       " 'earthy',\n",
       " 'easy',\n",
       " 'excellent',\n",
       " 'finishes',\n",
       " 'founders',\n",
       " 'fresh',\n",
       " 'grapefruit',\n",
       " 'huge',\n",
       " 'love',\n",
       " 'makes',\n",
       " 'nicely',\n",
       " 'oak',\n",
       " 'perfect',\n",
       " 'pine',\n",
       " 'porter',\n",
       " 'presence',\n",
       " 'present',\n",
       " 'rich',\n",
       " 'rye',\n",
       " 'side',\n",
       " 'sip',\n",
       " 'smoked',\n",
       " 'solid',\n",
       " 'spicy',\n",
       " 'sticky',\n",
       " 'sugar',\n",
       " 'tasty',\n",
       " 'thanks',\n",
       " 'toffee',\n",
       " 'tongue'}"
      ]
     },
     "execution_count": 392,
     "metadata": {},
     "output_type": "execute_result"
    }
   ],
   "source": [
    "good_beer_words - bad_beer_words"
   ]
  },
  {
   "cell_type": "code",
   "execution_count": 425,
   "metadata": {},
   "outputs": [],
   "source": [
    "#my_gb_words = ['great', 'awesome', 'good', 'toffee', 'amazing', 'spicy', 'smoked', 'rye', 'perfect', 'oak', 'fresh', 'excellent', 'complex', 'earthy', 'balanced', 'easy']\n",
    "manual_gb_words = set(['great', 'awesome', 'perfect', 'amazing', 'wonderful'])\n",
    "my_gb_words = list(good_beer_words - bad_beer_words | manual_gb_words)"
   ]
  },
  {
   "cell_type": "code",
   "execution_count": 426,
   "metadata": {},
   "outputs": [],
   "source": [
    "for word in my_bb_words:\n",
    "    bf[word] = bf.text_list.map(lambda x : 1 if word in x else 0)\n",
    "    "
   ]
  },
  {
   "cell_type": "code",
   "execution_count": 427,
   "metadata": {},
   "outputs": [],
   "source": [
    "for word in my_gb_words:\n",
    "    bf[word] = bf.text_list.map(lambda x : 1 if word in x else 0)\n"
   ]
  },
  {
   "cell_type": "code",
   "execution_count": 428,
   "metadata": {},
   "outputs": [
    {
     "data": {
      "text/plain": [
       "Index(['index', 'beer/ABV', 'beer/beerId', 'beer/brewerId', 'beer/name',\n",
       "       'beer/style', 'review/appearance', 'review/aroma', 'review/overall',\n",
       "       'review/palate',\n",
       "       ...\n",
       "       'smoked', 'nasty', 'gross', 'bad', 'terrible', 'horrible', 'awesome',\n",
       "       'amazing', 'wonderful', 'great'],\n",
       "      dtype='object', length=102)"
      ]
     },
     "execution_count": 428,
     "metadata": {},
     "output_type": "execute_result"
    }
   ],
   "source": [
    "bf.columns"
   ]
  },
  {
   "cell_type": "code",
   "execution_count": 429,
   "metadata": {},
   "outputs": [],
   "source": [
    "beer_X = bf[my_bb_words + my_gb_words + ['beer/ABV']]\n",
    "beer_y = bf[['thumbs']]\n",
    "train_X, test_X, train_y, test_y = train_test_split(beer_X, beer_y, random_state=42)"
   ]
  },
  {
   "cell_type": "code",
   "execution_count": 430,
   "metadata": {},
   "outputs": [
    {
     "data": {
      "text/plain": [
       "LinearRegression(copy_X=True, fit_intercept=True, n_jobs=None,\n",
       "         normalize=False)"
      ]
     },
     "execution_count": 430,
     "metadata": {},
     "output_type": "execute_result"
    }
   ],
   "source": [
    "from sklearn.tree import DecisionTreeClassifier\n",
    "from sklearn.svm import LinearSVC\n",
    "#rmodel = LogisticRegression(solver='lbfgs')\n",
    "rmodel = LinearRegression()\n",
    "rmodel.fit(train_X.values, train_y.values.ravel())"
   ]
  },
  {
   "cell_type": "code",
   "execution_count": 431,
   "metadata": {},
   "outputs": [],
   "source": [
    "preds = rmodel.predict(test_X)"
   ]
  },
  {
   "cell_type": "code",
   "execution_count": 432,
   "metadata": {},
   "outputs": [
    {
     "data": {
      "text/plain": [
       "0.27171860056966407"
      ]
     },
     "execution_count": 432,
     "metadata": {},
     "output_type": "execute_result"
    }
   ],
   "source": [
    "abs(preds-test_y.values).mean()"
   ]
  },
  {
   "cell_type": "code",
   "execution_count": 433,
   "metadata": {},
   "outputs": [],
   "source": [
    "#accuracy_score(test_y, preds)"
   ]
  },
  {
   "cell_type": "code",
   "execution_count": 434,
   "metadata": {},
   "outputs": [],
   "source": [
    "#np.sqrt(((preds-test_y) ** 2.0).mean())"
   ]
  },
  {
   "cell_type": "code",
   "execution_count": null,
   "metadata": {},
   "outputs": [],
   "source": []
  },
  {
   "cell_type": "code",
   "execution_count": 435,
   "metadata": {},
   "outputs": [
    {
     "data": {
      "text/plain": [
       "[('easy', 0.09897475529700242),\n",
       " ('solid', 0.08193606042382606),\n",
       " ('tasty', 0.07926292696423745),\n",
       " ('perfect', 0.07429735785293201),\n",
       " ('excellent', 0.06874988526786646),\n",
       " ('awesome', 0.06233364191142189),\n",
       " ('balanced', 0.06045033839990843),\n",
       " ('wonderful', 0.05799172999897152),\n",
       " ('great', 0.05636937453118318),\n",
       " ('amazing', 0.05219272230869499),\n",
       " ('nicely', 0.04952653333618656),\n",
       " ('rich', 0.04942543734985559),\n",
       " ('rye', 0.04756608986925993),\n",
       " ('grapefruit', 0.047352162098180085),\n",
       " ('porter', 0.0412026680923209),\n",
       " ('complex', 0.04118874233301322),\n",
       " ('earthy', 0.03727280299704358),\n",
       " ('fresh', 0.03382554365023634),\n",
       " ('smoked', 0.032029959306983415),\n",
       " ('love', 0.030006154158548782),\n",
       " ('finishes', 0.026359252408330078),\n",
       " ('spicy', 0.024980833928766023),\n",
       " ('side', 0.021876927774935412),\n",
       " ('4', 0.02125435494723614),\n",
       " ('toffee', 0.02027943735216922),\n",
       " ('oak', 0.018260588038089724),\n",
       " ('tongue', 0.017796144294097545),\n",
       " ('pine', 0.014721932044263076),\n",
       " ('colored', 0.01353474137965632),\n",
       " ('thanks', 0.0128739902368319),\n",
       " ('huge', 0.011403066872820562),\n",
       " ('beer/ABV', 0.009975677661382855),\n",
       " ('present', 0.008306430786519372),\n",
       " ('come', 0.008267650489429441),\n",
       " ('makes', 0.008097026835510208),\n",
       " ('bubbles', 0.007684428177197186),\n",
       " ('founders', 0.006847636797134196),\n",
       " ('yeast', 0.005467250803556166),\n",
       " ('sip', 0.004577266195399096),\n",
       " ('expected', 0.003535795089806915),\n",
       " ('sugar', 7.257978953523897e-05),\n",
       " ('sticky', -0.0010750189111585484),\n",
       " ('burnt', -0.0035788577677796527),\n",
       " ('looking', -0.00578768543377176),\n",
       " ('wheat', -0.006488531029064236),\n",
       " ('3', -0.008981890943191928),\n",
       " ('interesting', -0.01064230511403084),\n",
       " ('presence', -0.011931266299288062),\n",
       " ('carbonated', -0.012356380936807876),\n",
       " ('say', -0.014290289384205106),\n",
       " ('cherry', -0.014494559743377787),\n",
       " ('go', -0.01594624949284511),\n",
       " ('actually', -0.01849855352954429),\n",
       " ('seems', -0.019526318182453498),\n",
       " ('grain', -0.020113335269588646),\n",
       " ('honey', -0.021376407638828112),\n",
       " ('going', -0.02301316817404863),\n",
       " ('somewhat', -0.024877538403616006),\n",
       " ('looks', -0.026680352361029322),\n",
       " ('brewery', -0.028050956074505952),\n",
       " ('got', -0.02862843193473496),\n",
       " ('rather', -0.028821790427301323),\n",
       " ('probably', -0.029695713299625448),\n",
       " ('gold', -0.031187214782664483),\n",
       " ('faint', -0.03167620827640918),\n",
       " ('grainy', -0.03285061312176594),\n",
       " ('yellow', -0.038446433701804984),\n",
       " ('kind', -0.04314317837071367),\n",
       " ('hard', -0.06909303577354563),\n",
       " ('sour', -0.06939657743292557),\n",
       " ('lager', -0.07760024951541533),\n",
       " ('else', -0.09073114293567835),\n",
       " ('average', -0.10333977187091621),\n",
       " ('ok', -0.11119758648102833),\n",
       " ('bad', -0.11788545465633829),\n",
       " ('watery', -0.15096138689782415),\n",
       " ('metallic', -0.16344136603617934),\n",
       " ('weak', -0.16590460077438943),\n",
       " ('terrible', -0.25895040755677234),\n",
       " ('horrible', -0.33031869248834744),\n",
       " ('gross', -0.36159596414236767),\n",
       " ('nasty', -0.4118675131844417)]"
      ]
     },
     "execution_count": 435,
     "metadata": {},
     "output_type": "execute_result"
    }
   ],
   "source": [
    "sorted_weights = sorted(list(zip(beer_X.columns.tolist(), rmodel.coef_.ravel().tolist())), key=lambda x : x[1], reverse=True)\n",
    "sorted_weights"
   ]
  },
  {
   "cell_type": "markdown",
   "metadata": {},
   "source": [
    "Lets see if we can visualize this "
   ]
  },
  {
   "cell_type": "code",
   "execution_count": 436,
   "metadata": {},
   "outputs": [
    {
     "data": {
      "application/vnd.vegalite.v2+json": {
       "$schema": "https://vega.github.io/schema/vega-lite/v2.6.0.json",
       "config": {
        "view": {
         "height": 300,
         "width": 400
        }
       },
       "data": {
        "name": "data-9af4d616c9f057d5eead2e7331352ebd"
       },
       "datasets": {
        "data-9af4d616c9f057d5eead2e7331352ebd": [
         {
          "weight": 0.09897475529700242,
          "word": "easy"
         },
         {
          "weight": 0.08193606042382606,
          "word": "solid"
         },
         {
          "weight": 0.07926292696423745,
          "word": "tasty"
         },
         {
          "weight": 0.07429735785293201,
          "word": "perfect"
         },
         {
          "weight": 0.06874988526786646,
          "word": "excellent"
         },
         {
          "weight": 0.06233364191142189,
          "word": "awesome"
         },
         {
          "weight": 0.06045033839990843,
          "word": "balanced"
         },
         {
          "weight": 0.05799172999897152,
          "word": "wonderful"
         },
         {
          "weight": 0.05636937453118318,
          "word": "great"
         },
         {
          "weight": 0.05219272230869499,
          "word": "amazing"
         },
         {
          "weight": 0.04952653333618656,
          "word": "nicely"
         },
         {
          "weight": 0.04942543734985559,
          "word": "rich"
         },
         {
          "weight": 0.04756608986925993,
          "word": "rye"
         },
         {
          "weight": 0.047352162098180085,
          "word": "grapefruit"
         },
         {
          "weight": 0.0412026680923209,
          "word": "porter"
         },
         {
          "weight": 0.04118874233301322,
          "word": "complex"
         },
         {
          "weight": 0.03727280299704358,
          "word": "earthy"
         },
         {
          "weight": 0.03382554365023634,
          "word": "fresh"
         },
         {
          "weight": 0.032029959306983415,
          "word": "smoked"
         },
         {
          "weight": 0.030006154158548782,
          "word": "love"
         },
         {
          "weight": 0.026359252408330078,
          "word": "finishes"
         },
         {
          "weight": 0.024980833928766023,
          "word": "spicy"
         },
         {
          "weight": 0.021876927774935412,
          "word": "side"
         },
         {
          "weight": 0.02125435494723614,
          "word": "4"
         },
         {
          "weight": 0.02027943735216922,
          "word": "toffee"
         },
         {
          "weight": 0.018260588038089724,
          "word": "oak"
         },
         {
          "weight": 0.017796144294097545,
          "word": "tongue"
         },
         {
          "weight": 0.014721932044263076,
          "word": "pine"
         },
         {
          "weight": 0.01353474137965632,
          "word": "colored"
         },
         {
          "weight": 0.0128739902368319,
          "word": "thanks"
         },
         {
          "weight": 0.011403066872820562,
          "word": "huge"
         },
         {
          "weight": 0.009975677661382855,
          "word": "beer/ABV"
         },
         {
          "weight": 0.008306430786519372,
          "word": "present"
         },
         {
          "weight": 0.008267650489429441,
          "word": "come"
         },
         {
          "weight": 0.008097026835510208,
          "word": "makes"
         },
         {
          "weight": 0.007684428177197186,
          "word": "bubbles"
         },
         {
          "weight": 0.006847636797134196,
          "word": "founders"
         },
         {
          "weight": 0.005467250803556166,
          "word": "yeast"
         },
         {
          "weight": 0.004577266195399096,
          "word": "sip"
         },
         {
          "weight": 0.003535795089806915,
          "word": "expected"
         },
         {
          "weight": 7.257978953523897e-05,
          "word": "sugar"
         },
         {
          "weight": -0.0010750189111585484,
          "word": "sticky"
         },
         {
          "weight": -0.0035788577677796527,
          "word": "burnt"
         },
         {
          "weight": -0.00578768543377176,
          "word": "looking"
         },
         {
          "weight": -0.006488531029064236,
          "word": "wheat"
         },
         {
          "weight": -0.008981890943191928,
          "word": "3"
         },
         {
          "weight": -0.01064230511403084,
          "word": "interesting"
         },
         {
          "weight": -0.011931266299288062,
          "word": "presence"
         },
         {
          "weight": -0.012356380936807876,
          "word": "carbonated"
         },
         {
          "weight": -0.014290289384205106,
          "word": "say"
         },
         {
          "weight": -0.014494559743377787,
          "word": "cherry"
         },
         {
          "weight": -0.01594624949284511,
          "word": "go"
         },
         {
          "weight": -0.01849855352954429,
          "word": "actually"
         },
         {
          "weight": -0.019526318182453498,
          "word": "seems"
         },
         {
          "weight": -0.020113335269588646,
          "word": "grain"
         },
         {
          "weight": -0.021376407638828112,
          "word": "honey"
         },
         {
          "weight": -0.02301316817404863,
          "word": "going"
         },
         {
          "weight": -0.024877538403616006,
          "word": "somewhat"
         },
         {
          "weight": -0.026680352361029322,
          "word": "looks"
         },
         {
          "weight": -0.028050956074505952,
          "word": "brewery"
         },
         {
          "weight": -0.02862843193473496,
          "word": "got"
         },
         {
          "weight": -0.028821790427301323,
          "word": "rather"
         },
         {
          "weight": -0.029695713299625448,
          "word": "probably"
         },
         {
          "weight": -0.031187214782664483,
          "word": "gold"
         },
         {
          "weight": -0.03167620827640918,
          "word": "faint"
         },
         {
          "weight": -0.03285061312176594,
          "word": "grainy"
         },
         {
          "weight": -0.038446433701804984,
          "word": "yellow"
         },
         {
          "weight": -0.04314317837071367,
          "word": "kind"
         },
         {
          "weight": -0.06909303577354563,
          "word": "hard"
         },
         {
          "weight": -0.06939657743292557,
          "word": "sour"
         },
         {
          "weight": -0.07760024951541533,
          "word": "lager"
         },
         {
          "weight": -0.09073114293567835,
          "word": "else"
         },
         {
          "weight": -0.10333977187091621,
          "word": "average"
         },
         {
          "weight": -0.11119758648102833,
          "word": "ok"
         },
         {
          "weight": -0.11788545465633829,
          "word": "bad"
         },
         {
          "weight": -0.15096138689782415,
          "word": "watery"
         },
         {
          "weight": -0.16344136603617934,
          "word": "metallic"
         },
         {
          "weight": -0.16590460077438943,
          "word": "weak"
         },
         {
          "weight": -0.25895040755677234,
          "word": "terrible"
         },
         {
          "weight": -0.33031869248834744,
          "word": "horrible"
         },
         {
          "weight": -0.36159596414236767,
          "word": "gross"
         },
         {
          "weight": -0.4118675131844417,
          "word": "nasty"
         }
        ]
       },
       "encoding": {
        "x": {
         "field": "word",
         "sort": {
          "field": "weight:Q",
          "op": "values",
          "order": "ascending"
         },
         "type": "nominal"
        },
        "y": {
         "field": "weight",
         "type": "quantitative"
        }
       },
       "mark": "bar"
      },
      "image/png": "[encoded data removed]",
      "text/plain": [
       "<VegaLite 2 object>\n",
       "\n",
       "If you see this message, it means the renderer has not been properly enabled\n",
       "for the frontend that you are using. For more information, see\n",
       "https://altair-viz.github.io/user_guide/troubleshooting.html\n"
      ]
     },
     "execution_count": 436,
     "metadata": {},
     "output_type": "execute_result"
    }
   ],
   "source": [
    "\n",
    "alt.Chart(pd.DataFrame([{'word': x[0], 'weight': x[1]} for x in sorted_weights])).mark_bar().encode(alt.X('word:N', sort=alt.EncodingSortField(field='weight:Q', op='values', order='ascending')),\n",
    "                                                                                                    y='weight:Q')\n",
    "\n"
   ]
  },
  {
   "cell_type": "markdown",
   "metadata": {},
   "source": [
    "If you look at it, its pretty interesting to see the two ends of the graph.  Look at the words that have the highest positive weights.  Who knew that 'grapefruit' was such a desireable characteristic of a beer!?\n",
    "\n",
    "The question you may be asking yourself is \"How does this work exactly?\"   Lets take an example and work through it step by step using the weights above.\n",
    "\n",
    "Here's an example of a review with a solid 5 rating."
   ]
  },
  {
   "cell_type": "code",
   "execution_count": null,
   "metadata": {},
   "outputs": [],
   "source": []
  },
  {
   "cell_type": "code",
   "execution_count": 419,
   "metadata": {},
   "outputs": [
    {
     "data": {
      "text/plain": [
       "index                                                                                                              32481\n",
       "beer/ABV                                                                                                            11.2\n",
       "beer/beerId                                                                                                        19960\n",
       "beer/brewerId                                                                                                       1199\n",
       "beer/name                                                                        Founders KBS (Kentucky Breakfast Stout)\n",
       "beer/style                                                                              American Double / Imperial Stout\n",
       "review/appearance                                                                                                    4.5\n",
       "review/aroma                                                                                                         4.5\n",
       "review/overall                                                                                                         5\n",
       "review/palate                                                                                                        4.5\n",
       "review/taste                                                                                                           5\n",
       "review/text          kentucky breakfast stout is yet another outstanding brew from founders  pouring almost pitch bla...\n",
       "review/timeStruct    {'min': 38, 'hour': 13, 'mday': 17, 'sec': 7, 'year': 2008, 'wday': 0, 'mon': 3, 'isdst': 0, 'yd...\n",
       "review/timeUnix                                                                                               1205761087\n",
       "user/ageInSeconds                                                                                                    NaN\n",
       "user/birthdayRaw                                                                                                     NaN\n",
       "user/birthdayUnix                                                                                                    NaN\n",
       "user/gender                                                                                                          NaN\n",
       "user/profileName                                                                                          YonderWanderer\n",
       "thumbs                                                                                                                 1\n",
       "text_list            [kentucky, breakfast, stout, is, yet, another, outstanding, brew, from, founders, pouring, almos...\n",
       "ok                                                                                                                     0\n",
       "go                                                                                                                     0\n",
       "faint                                                                                                                  0\n",
       "brewery                                                                                                                0\n",
       "else                                                                                                                   0\n",
       "rather                                                                                                                 0\n",
       "cherry                                                                                                                 0\n",
       "grainy                                                                                                                 0\n",
       "interesting                                                                                                            0\n",
       "                                                                    ...                                                 \n",
       "sip                                                                                                                    0\n",
       "toffee                                                                                                                 0\n",
       "earthy                                                                                                                 0\n",
       "spicy                                                                                                                  0\n",
       "nicely                                                                                                                 0\n",
       "presence                                                                                                               0\n",
       "makes                                                                                                                  0\n",
       "excellent                                                                                                              0\n",
       "oak                                                                                                                    0\n",
       "perfect                                                                                                                0\n",
       "side                                                                                                                   0\n",
       "thanks                                                                                                                 0\n",
       "love                                                                                                                   0\n",
       "come                                                                                                                   0\n",
       "easy                                                                                                                   0\n",
       "finishes                                                                                                               0\n",
       "colored                                                                                                                0\n",
       "rye                                                                                                                    0\n",
       "fresh                                                                                                                  0\n",
       "burnt                                                                                                                  0\n",
       "solid                                                                                                                  0\n",
       "tasty                                                                                                                  0\n",
       "complex                                                                                                                0\n",
       "rich                                                                                                                   0\n",
       "huge                                                                                                                   0\n",
       "sticky                                                                                                                 0\n",
       "grapefruit                                                                                                             0\n",
       "porter                                                                                                                 0\n",
       "founders                                                                                                               1\n",
       "smoked                                                                                                                 0\n",
       "Name: 12, Length: 93, dtype: object"
      ]
     },
     "execution_count": 419,
     "metadata": {},
     "output_type": "execute_result"
    }
   ],
   "source": [
    "pd.set_option('display.max_colwidth', 100)\n",
    "bf.loc[12]"
   ]
  },
  {
   "cell_type": "markdown",
   "metadata": {},
   "source": [
    "Now lets do the math.\n"
   ]
  },
  {
   "cell_type": "code",
   "execution_count": 437,
   "metadata": {},
   "outputs": [
    {
     "data": {
      "text/plain": [
       "{'founders', 'great'}"
      ]
     },
     "execution_count": 437,
     "metadata": {},
     "output_type": "execute_result"
    }
   ],
   "source": [
    "set(bf.loc[12, 'text_list']) & (set(my_gb_words)  - set(my_bb_words))"
   ]
  },
  {
   "cell_type": "code",
   "execution_count": 439,
   "metadata": {},
   "outputs": [
    {
     "name": "stdout",
     "output_type": "stream",
     "text": [
      "founders 0.006847636797134196\n",
      "great 0.05636937453118318\n",
      "0.06321701132831738\n"
     ]
    }
   ],
   "source": [
    "weight_d = dict(sorted_weights)\n",
    "score = 0\n",
    "for w in bf.loc[12, 'text_list']:\n",
    "    weight = weight_d.get(w,0)\n",
    "    if weight > 0:\n",
    "        print(w, weight)\n",
    "        score += weight * bf.loc[12, w]\n",
    "    \n",
    "print(score)"
   ]
  },
  {
   "cell_type": "markdown",
   "metadata": {},
   "source": [
    "Even with a great beer we are not always going to hit the words."
   ]
  },
  {
   "cell_type": "code",
   "execution_count": null,
   "metadata": {},
   "outputs": [],
   "source": []
  },
  {
   "cell_type": "markdown",
   "metadata": {},
   "source": [
    "## Sentiment Analysis with Python's Natural Language Toolkit (NLTK)\n",
    "\n",
    "So, our simple approach to using words from the review is not too bad."
   ]
  }
 ],
 "metadata": {
  "jupytext": {
   "main_language": "python",
   "text_representation": {
    "extension": ".Rmd",
    "format_name": "rmarkdown",
    "format_version": "1.0",
    "jupytext_version": "0.8.2"
   }
  },
  "kernelspec": {
   "display_name": "Python 3",
   "language": "python",
   "name": "python3"
  },
  "language_info": {
   "codemirror_mode": {
    "name": "ipython",
    "version": 3
   },
   "file_extension": ".py",
   "mimetype": "text/x-python",
   "name": "python",
   "nbconvert_exporter": "python",
   "pygments_lexer": "ipython3",
   "version": "3.6.4"
  }
 },
 "nbformat": 4,
 "nbformat_minor": 2
}

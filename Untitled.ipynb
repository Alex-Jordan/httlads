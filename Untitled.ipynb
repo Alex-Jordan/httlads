{
 "cells": [
  {
   "cell_type": "code",
   "execution_count": null,
   "metadata": {},
   "outputs": [],
   "source": [
    "%matplotlib inline\n",
    "\n",
    "import pandas as pd\n",
    "import matplotlib\n",
    "import matplotlib.pyplot as plt\n",
    "import psycopg2\n",
    "import textatistic\n",
    "import seaborn as sbn\n",
    "from altair import Chart, X, Y, Color, Scale\n",
    "import altair as alt\n",
    "from vega_datasets import data\n",
    "import requests\n",
    "from bs4 import BeautifulSoup\n",
    "matplotlib.style.use('ggplot')\n",
    "# for plotly py.offline.init_notebook_mode()\n",
    "\n",
    "wd = pd.read_csv('world_countries.csv')\n"
   ]
  }
 ],
 "metadata": {
  "kernelspec": {
   "display_name": "Python 3",
   "language": "python",
   "name": "python3"
  },
  "language_info": {
   "codemirror_mode": {
    "name": "ipython",
    "version": 3
   },
   "file_extension": ".py",
   "mimetype": "text/x-python",
   "name": "python",
   "nbconvert_exporter": "python",
   "pygments_lexer": "ipython3",
   "version": "3.8.3"
  }
 },
 "nbformat": 4,
 "nbformat_minor": 4
}

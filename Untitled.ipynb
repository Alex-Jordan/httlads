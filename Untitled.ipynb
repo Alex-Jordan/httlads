{
 "cells": [
  {
   "cell_type": "code",
   "execution_count": 248,
   "metadata": {},
   "outputs": [
    {
     "data": {
      "text/plain": [
       "'<!DOCTYPE html>\\n<!-- THIS TEMPLATE IS USED TO GENERATE THE AGENCY VERSION OF THE WFB SITE -->\\n<!--[if lt IE 7]> <html class=\"no-js lt-ie9 lt-ie8 lt-ie7\" lang=\"en\">\\n<![endif]--><!--[if IE 7]>\\n<html cla'"
      ]
     },
     "execution_count": 248,
     "metadata": {},
     "output_type": "execute_result"
    }
   ],
   "source": [
    "from bs4 import BeautifulSoup\n",
    "import pandas as pd\n",
    "# file = open(filename, encoding=\"utf8\")\n",
    "page = open(r\"C:/Users/santoshernandezr/factbook2018/docs/notesanddefs.html\", encoding='utf-8').read()\n",
    "page[:200]"
   ]
  },
  {
   "cell_type": "code",
   "execution_count": 249,
   "metadata": {
    "scrolled": true
   },
   "outputs": [
    {
     "name": "stdout",
     "output_type": "stream",
     "text": [
      "<!DOCTYPE html>\n",
      "<!-- THIS TEMPLATE IS USED TO GENERATE THE AGENCY VERSION OF THE WFB SITE -->\n",
      "<!--[if lt IE 7]> <html class=\"no-js lt-ie9 lt-ie8 lt-ie7\" lang=\"en\">\n",
      "<![endif]-->\n",
      "<!--[if IE 7]>\n",
      "<html class=\"no-js lt-ie9 lt-ie8\" lang=\"en\"> <![endif]-->\n",
      "<!--[if IE 8]>\n",
      "<html class=\"no-js lt-ie9\" lang=\"en\"> <![endif]-->\n",
      "<!--[if gt IE 8]>\n",
      "<!-->\n",
      "<html class=\"no-js\" lang=\"en\" xml:lang=\"en\" xmlns=\"http://www.w3.org/1999/xhtml\">\n",
      " <!--<![endif]-->\n",
      " <head>\n",
      "  <meta content=\"text/html; charset=utf-8\" http-equiv=\"Content-Type\"/>\n",
      "  <meta charset=\"utf-8\"/>\n",
      "  <meta content=\"IE=edge,chrome=1\" http-equiv=\"X-UA-Compatible\"/>\n",
      "  <title>\n",
      "   References :: Definitions and Notes — The World Factbook - Central Intelligence Agency\n",
      "  </title>\n",
      "  <meta content=\"\" name=\"description\"/>\n",
      "  <meta content=\"width=device-width\" name=\"viewport\"/>\n",
      "  <meta content=\"FEB 1, 2018\" name=\"LastModified\"/>\n",
      "  <link href=\"../stylesheets/smallscreen.css\" rel=\"stylesheet\" type=\"text/css\"/>\n",
      "  <!--[if lt IE 9]>\n",
      "  <link href=\"../stylesheets/f\n"
     ]
    }
   ],
   "source": [
    "page = BeautifulSoup(page)\n",
    "print(page.prettify()[:1000])"
   ]
  },
  {
   "cell_type": "code",
   "execution_count": 250,
   "metadata": {
    "scrolled": true
   },
   "outputs": [],
   "source": [
    "# HERE I AM GETTING ALL THE URLS WE WILL BE NEEDING\n",
    "\n",
    "cols = page.select(\"span.field-listing-link\")\n",
    "#print(cols)\n",
    "\n",
    "urls = []\n",
    "\n",
    "for col in cols: \n",
    "    links = col.select('a')\n",
    "    if len(links)>0:\n",
    "        fpath = links[0]['href']\n",
    "        fpath = fpath[2:] \n",
    "        urls.append(\"C:/Users/santoshernandezr/factbook2018\" + fpath)\n",
    "\n",
    "# print(urls)"
   ]
  },
  {
   "cell_type": "code",
   "execution_count": 251,
   "metadata": {
    "scrolled": false
   },
   "outputs": [
    {
     "name": "stdout",
     "output_type": "stream",
     "text": [
      "{'Afghanistan': '2.7%', 'Albania': '2.2%', 'Algeria': '1%', 'American Samoa': '3.8%', 'Andorra': '3.4%', 'Angola': '2.2%', 'Anguilla': '1.4%', 'Antigua and Barbuda': '3.2%', 'Argentina': '3.7%', 'Armenia': '-2.5%', 'Aruba': '1.2%', 'Australia': '1%', 'Austria': '-1.1%', 'Azerbaijan': '1.4%', 'Bahamas, The': '-0.1%', 'Bahrain': '-2.5%', 'Bangladesh': '-2.6%', 'Barbados': '0.9%', 'Belarus': '-8.5%', 'Belgium': '2.8%', 'Belize': '5.3%', 'Benin': '4.1%', 'Bermuda': '2.9%', 'Bhutan': '-1.8%', 'Bolivia': '2.7%', 'Bosnia and Herzegovina': '7.5%', 'Botswana': '0.3%', 'Brazil': '3.3%', 'British Virgin Islands': '1.2%', 'Brunei': '-0.1%', 'Bulgaria': '-0.4%', 'Burkina Faso': '2.2%', 'Burma': '2.6%', 'Burundi': '2.5%', 'Cabo Verde': '3%', 'Cambodia': '1.5%', 'Cameroon': '1.1%', 'Canada': '0.1%', 'Cayman Islands': '-3.1%', 'Central African Republic': '0.6%', 'Chad': '1.4%', 'Chile': '-1.7%', 'China': '1%', 'Cocos (Keeling) Islands': '3.8%', 'Colombia': '3.5%', 'Comoros': '2.9%', 'Congo, Democratic Republic of the': '7.4%', 'Congo, Republic of the': '7.2%', 'Cook Islands': '6.8%', 'Costa Rica': '-0.2%', \"Cote d'Ivoire\": '2.3%', 'Croatia': '2.2%', 'Cuba': '2.4%', 'Curacao': '-2.5%', 'Cyprus': '-3.8%', 'Czechia': '1.7%', 'Denmark': '1.4%', 'Djibouti': '1.4%', 'Dominica': '0.8%', 'Dominican Republic': '-0.5%', 'Ecuador': '3.8%', 'Egypt': '5.6%', 'El Salvador': '4%', 'Equatorial Guinea': '2.1%', 'Eritrea': '-0.1%', 'Estonia': '0.6%', 'Eswatini': '-0.3%', 'Ethiopia': '7.4%', 'European Union': '7.3%', 'Falkland Islands (Islas Malvinas)': '6.2%', 'Faroe Islands': '4.2%', 'Fiji': '4.3%', 'Finland': '4.9%', 'France': '3%', 'French Polynesia': '3.2%', 'Gabon': '3.1%', 'Gambia, The': '2.4%', 'Gaza Strip': '4.3%', 'Georgia': '-1.7%', 'Germany': '1%', 'Ghana': '-3.5%', 'Greece': '-3.5%', 'Greenland': '2%', 'Grenada': '1.9%', 'Guam': '1.8%', 'Guatemala': '1.3%', 'Guernsey': '-2.5%', 'Guinea': '-0.4%', 'Guinea-Bissau': '3.6%', 'Guyana': '3.9%', 'Haiti': '3.6%', 'Honduras': '6.4%', 'Hong Kong': '5.9%', 'Hungary': '3.9%', 'Iceland': '6.8%', 'India': '5.9%', 'Indonesia': '7%', 'Iran': '0%', 'Iraq': '-1%', 'Ireland': '-4%', 'Isle of Man': '4%', 'Israel': '4.7%', 'Italy': '1%', 'Jamaica': '6.9%', 'Japan': '7%', 'Jersey': '7%', 'Jordan': '3.5%', 'Kazakhstan': '4.6%', 'Kenya': '5.7%', 'Kiribati': '3%', 'Korea, North': '1.4%', 'Korea, South': '1%', 'Kosovo': '1.7%', 'Kuwait': '1.2%', 'Kyrgyzstan': '1.6%', 'Laos': '4.3%', 'Latvia': '4.5%', 'Lebanon': '4.8%', 'Lesotho': '-3.1%', 'Liberia': '-6.4%', 'Libya': '1.8%', 'Liechtenstein': '1.5%', 'Lithuania': '1.3%', 'Luxembourg': '2.3%', 'Macau': '6.9%', 'Macedonia': '6.7%', 'Madagascar': '6.9%', 'Malawi': '1%', 'Malaysia': '1.8%', 'Maldives': '2%', 'Mali': '3%', 'Malta': '2.7%', 'Marshall Islands': '2.2%', 'Mauritania': '1%', 'Mauritius': '3.4%', 'Mexico': '2.4%', 'Micronesia, Federated States of': '6.9%', 'Moldova': '-3.1%', 'Monaco': '-2.8%', 'Mongolia': '2.6%', 'Montenegro': '0.1%', 'Montserrat': '3.3%', 'Morocco': '4.2%', 'Mozambique': '3.6%', 'Namibia': '7.8%', 'Nauru': '8.3%', 'Nepal': '8.8%', 'Netherlands': '2.8%', 'New Caledonia': '3.5%', 'New Zealand': '2.4%', 'Nicaragua': '1.6%', 'Niger': '0.5%', 'Nigeria': '4.4%', 'Niue': '3.6%', 'Northern Mariana Islands': '2%', 'Norway': '0.1%', 'Oman': '3.9%', 'Pakistan': '3.4%', 'Palau': '2%', 'Panama': '4.3%', 'Papua New Guinea': '2.5%', 'Paraguay': '5.3%', 'Peru': '2.3%', 'Philippines': '2%', 'Poland': '1.6%', 'Portugal': '6.7%', 'Puerto Rico': '6.5%', 'Qatar': '6.5%', 'Romania': '-4.7%', 'Russia': '2.6%', 'Rwanda': '-3.7%', 'Saint Helena, Ascension, and Tristan da Cunha': '4.6%', 'Saint Kitts and Nevis': '6.6%', 'Saint Lucia': '7%', 'Saint Pierre and Miquelon': '2.4%', 'Saint Vincent and the Grenadines': '-1.2%', 'Samoa': '0.1%', 'San Marino': '4.2%', 'Sao Tome and Principe': '4.3%', 'Saudi Arabia': '4.4%', 'Senegal': '2.3%', 'Serbia': '2.6%', 'Seychelles': '2.4%', 'Sierra Leone': '-3.2%', 'Singapore': '-8.6%', 'Sint Maarten': '-9.1%', 'Slovakia': '5%', 'Slovenia': '1.9%', 'Solomon Islands': '2.6%', 'Somalia': '4.9%', 'South Africa': '2.1%', 'South Sudan': '1.7%', 'Spain': '1.6%', 'Sri Lanka': '1.4%', 'Sudan': '0.4%', 'Suriname': '10.9%', 'Svalbard': '8%', 'Sweden': '10.4%', 'Switzerland': '2.3%', 'Syria': '2%', 'Taiwan': '2.3%', 'Tajikistan': '25.5%', 'Tanzania': '-1.8%', 'Thailand': '-20.4%', 'Timor-Leste': '5.9%', 'Togo': '7.5%', 'Tokelau': '2.4%', 'Tonga': '3%', 'Trinidad and Tobago': '0.7%', 'Tunisia': '3.8%', 'Turkey': '2.8%', 'Turkmenistan': '2.5%', 'Turks and Caicos Islands': '0.1%', 'Tuvalu': '2.3%', 'Uganda': '1.1%', 'Ukraine': '1%', 'United Arab Emirates': '2%', 'United Kingdom': '-2.7%', 'United States': '-2.5%', 'Uruguay': '0.5%', 'Uzbekistan': '2.1%', 'Vanuatu': '3.9%', 'Venezuela': '4.6%', 'Vietnam': '0.4%', 'Virgin Islands': '5.9%', 'Wallis and Futuna': '-15.2%', 'West Bank': '5.6%', 'Western Sahara': '7%', 'World': '5%', 'Yemen': '2.8%', 'Zambia': '2.9%', 'Zimbabwe': '2.5%'}\n"
     ]
    }
   ],
   "source": [
    "# HERE I AM SCRAPING ONE PAGE TO KNOW THE FORMAT OF THE REST OF THE PAGES\n",
    "\n",
    "page = open(r\"C:\\Users\\santoshernandezr\\factbook2018\\fields\\210.html\", encoding='utf-8').read()\n",
    "page_content = BeautifulSoup(page)\n",
    "page_content = page_content.find(id=\"fieldListing\") # gets the table where the countries are stored\n",
    "\n",
    "country_tags = page_content.select('td.country') # gets the tags where the countries are stored in\n",
    "country_name = [pt.get_text()[1:-1] for pt in country_tags] # iterates through the tags and gets the country names\n",
    "# print(country_name)\n",
    "\n",
    "data_tags = page_content.select('span.subfield-number')\n",
    "country_data = [pt.get_text() for pt in data_tags]\n",
    "# print(country_data)\n",
    "\n",
    "dict = {country_name[i]: country_data[i] for i in range(len(country_name))}\n",
    "\n",
    "print(dict)"
   ]
  },
  {
   "cell_type": "code",
   "execution_count": 253,
   "metadata": {},
   "outputs": [
    {
     "name": "stdout",
     "output_type": "stream",
     "text": [
      "C:/Users/santoshernandezr/factbook2018/fields/302.html\n",
      "234\n",
      "0\n"
     ]
    },
    {
     "ename": "IndexError",
     "evalue": "list index out of range",
     "output_type": "error",
     "traceback": [
      "\u001b[1;31m---------------------------------------------------------------------------\u001b[0m",
      "\u001b[1;31mIndexError\u001b[0m                                Traceback (most recent call last)",
      "\u001b[1;32m<ipython-input-253-7656bd06da58>\u001b[0m in \u001b[0;36m<module>\u001b[1;34m\u001b[0m\n\u001b[0;32m     16\u001b[0m     \u001b[0mprint\u001b[0m\u001b[1;33m(\u001b[0m\u001b[0mlen\u001b[0m\u001b[1;33m(\u001b[0m\u001b[0mcountry_data\u001b[0m\u001b[1;33m)\u001b[0m\u001b[1;33m)\u001b[0m\u001b[1;33m\u001b[0m\u001b[1;33m\u001b[0m\u001b[0m\n\u001b[0;32m     17\u001b[0m \u001b[1;33m\u001b[0m\u001b[0m\n\u001b[1;32m---> 18\u001b[1;33m     \u001b[0mdict\u001b[0m \u001b[1;33m=\u001b[0m \u001b[1;33m{\u001b[0m\u001b[0mcountry_name\u001b[0m\u001b[1;33m[\u001b[0m\u001b[0mi\u001b[0m\u001b[1;33m]\u001b[0m\u001b[1;33m:\u001b[0m \u001b[0mcountry_data\u001b[0m\u001b[1;33m[\u001b[0m\u001b[0mi\u001b[0m\u001b[1;33m]\u001b[0m \u001b[1;32mfor\u001b[0m \u001b[0mi\u001b[0m \u001b[1;32min\u001b[0m \u001b[0mrange\u001b[0m\u001b[1;33m(\u001b[0m\u001b[0mlen\u001b[0m\u001b[1;33m(\u001b[0m\u001b[0mcountry_name\u001b[0m\u001b[1;33m)\u001b[0m\u001b[1;33m)\u001b[0m\u001b[1;33m}\u001b[0m\u001b[1;33m\u001b[0m\u001b[1;33m\u001b[0m\u001b[0m\n\u001b[0m",
      "\u001b[1;32m<ipython-input-253-7656bd06da58>\u001b[0m in \u001b[0;36m<dictcomp>\u001b[1;34m(.0)\u001b[0m\n\u001b[0;32m     16\u001b[0m     \u001b[0mprint\u001b[0m\u001b[1;33m(\u001b[0m\u001b[0mlen\u001b[0m\u001b[1;33m(\u001b[0m\u001b[0mcountry_data\u001b[0m\u001b[1;33m)\u001b[0m\u001b[1;33m)\u001b[0m\u001b[1;33m\u001b[0m\u001b[1;33m\u001b[0m\u001b[0m\n\u001b[0;32m     17\u001b[0m \u001b[1;33m\u001b[0m\u001b[0m\n\u001b[1;32m---> 18\u001b[1;33m     \u001b[0mdict\u001b[0m \u001b[1;33m=\u001b[0m \u001b[1;33m{\u001b[0m\u001b[0mcountry_name\u001b[0m\u001b[1;33m[\u001b[0m\u001b[0mi\u001b[0m\u001b[1;33m]\u001b[0m\u001b[1;33m:\u001b[0m \u001b[0mcountry_data\u001b[0m\u001b[1;33m[\u001b[0m\u001b[0mi\u001b[0m\u001b[1;33m]\u001b[0m \u001b[1;32mfor\u001b[0m \u001b[0mi\u001b[0m \u001b[1;32min\u001b[0m \u001b[0mrange\u001b[0m\u001b[1;33m(\u001b[0m\u001b[0mlen\u001b[0m\u001b[1;33m(\u001b[0m\u001b[0mcountry_name\u001b[0m\u001b[1;33m)\u001b[0m\u001b[1;33m)\u001b[0m\u001b[1;33m}\u001b[0m\u001b[1;33m\u001b[0m\u001b[1;33m\u001b[0m\u001b[0m\n\u001b[0m",
      "\u001b[1;31mIndexError\u001b[0m: list index out of range"
     ]
    }
   ],
   "source": [
    "all_data = {}\n",
    "\n",
    "for url in urls[:1]:\n",
    "    new_url = url[:55] # here we are slicing the url so it can work when we call it\n",
    "    print(new_url)\n",
    "    page = open(url, encoding='utf-8').read()\n",
    "    page_content = BeautifulSoup(page)\n",
    "    page_content = page_content.find(id=\"fieldListing\") # gets the table where the countries are stored\n",
    "\n",
    "    country_tags = page_content.select('td.country') # gets the tags where the countries are stored in\n",
    "    country_name = [pt.get_text()[1:-1] for pt in country_tags] # iterates through the tags and gets the country names\n",
    "    print(len(country_name))\n",
    "\n",
    "    data_tags = page_content.select('span.subfield-number')\n",
    "    country_data = [pt.get_text() for pt in data_tags]\n",
    "    print(len(country_data))\n",
    "\n",
    "    dict = {country_name[i]: country_data[i] for i in range(len(country_name))}"
   ]
  },
  {
   "cell_type": "code",
   "execution_count": null,
   "metadata": {},
   "outputs": [],
   "source": []
  }
 ],
 "metadata": {
  "kernelspec": {
   "display_name": "Python 3",
   "language": "python",
   "name": "python3"
  },
  "language_info": {
   "codemirror_mode": {
    "name": "ipython",
    "version": 3
   },
   "file_extension": ".py",
   "mimetype": "text/x-python",
   "name": "python",
   "nbconvert_exporter": "python",
   "pygments_lexer": "ipython3",
   "version": "3.7.6"
  }
 },
 "nbformat": 4,
 "nbformat_minor": 4
}

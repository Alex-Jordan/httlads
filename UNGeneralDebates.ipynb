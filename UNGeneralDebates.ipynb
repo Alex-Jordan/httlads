{
 "cells": [
  {
   "cell_type": "markdown",
   "metadata": {},
   "source": [
    "# UN General Debates"
   ]
  },
  {
   "cell_type": "code",
   "execution_count": 102,
   "metadata": {},
   "outputs": [],
   "source": [
    "%matplotlib inline\n",
    "\n",
    "import pandas as pd\n",
    "import matplotlib\n",
    "import matplotlib.pyplot as plt\n",
    "import psycopg2\n",
    "import textatistic\n",
    "import seaborn as sbn\n",
    "from altair import Chart, X, Y, Color, Scale\n",
    "import altair as alt\n",
    "from vega_datasets import data\n",
    "import requests\n",
    "from bs4 import BeautifulSoup\n",
    "import nltk\n",
    "matplotlib.style.use('ggplot')"
   ]
  },
  {
   "cell_type": "code",
   "execution_count": 69,
   "metadata": {},
   "outputs": [],
   "source": [
    "undf = pd.read_csv('Data/un-general-debates.csv')"
   ]
  },
  {
   "cell_type": "code",
   "execution_count": 70,
   "metadata": {},
   "outputs": [
    {
     "data": {
      "text/plain": [
       "7507"
      ]
     },
     "execution_count": 70,
     "metadata": {},
     "output_type": "execute_result"
    }
   ],
   "source": [
    "len(undf)"
   ]
  },
  {
   "cell_type": "code",
   "execution_count": 71,
   "metadata": {},
   "outputs": [
    {
     "data": {
      "text/html": [
       "<div>\n",
       "<style scoped>\n",
       "    .dataframe tbody tr th:only-of-type {\n",
       "        vertical-align: middle;\n",
       "    }\n",
       "\n",
       "    .dataframe tbody tr th {\n",
       "        vertical-align: top;\n",
       "    }\n",
       "\n",
       "    .dataframe thead th {\n",
       "        text-align: right;\n",
       "    }\n",
       "</style>\n",
       "<table border=\"1\" class=\"dataframe\">\n",
       "  <thead>\n",
       "    <tr style=\"text-align: right;\">\n",
       "      <th></th>\n",
       "      <th>session</th>\n",
       "      <th>year</th>\n",
       "      <th>country</th>\n",
       "      <th>text</th>\n",
       "    </tr>\n",
       "  </thead>\n",
       "  <tbody>\n",
       "    <tr>\n",
       "      <th>5543</th>\n",
       "      <td>70</td>\n",
       "      <td>2015</td>\n",
       "      <td>KNA</td>\n",
       "      <td>It is indeed an honour for me to address this ...</td>\n",
       "    </tr>\n",
       "    <tr>\n",
       "      <th>5524</th>\n",
       "      <td>70</td>\n",
       "      <td>2015</td>\n",
       "      <td>KOR</td>\n",
       "      <td>I would first like to congratulate the United ...</td>\n",
       "    </tr>\n",
       "    <tr>\n",
       "      <th>5522</th>\n",
       "      <td>70</td>\n",
       "      <td>2015</td>\n",
       "      <td>ARE</td>\n",
       "      <td>It is my pleasure to congratulate Mr. Mogens L...</td>\n",
       "    </tr>\n",
       "    <tr>\n",
       "      <th>5521</th>\n",
       "      <td>70</td>\n",
       "      <td>2015</td>\n",
       "      <td>BHS</td>\n",
       "      <td>I bring you, Sir, and the Assembly warm frater...</td>\n",
       "    </tr>\n",
       "    <tr>\n",
       "      <th>5520</th>\n",
       "      <td>70</td>\n",
       "      <td>2015</td>\n",
       "      <td>ISL</td>\n",
       "      <td>The world has changed enormously since the est...</td>\n",
       "    </tr>\n",
       "  </tbody>\n",
       "</table>\n",
       "</div>"
      ],
      "text/plain": [
       "      session  year country                                               text\n",
       "5543       70  2015     KNA  It is indeed an honour for me to address this ...\n",
       "5524       70  2015     KOR  I would first like to congratulate the United ...\n",
       "5522       70  2015     ARE  It is my pleasure to congratulate Mr. Mogens L...\n",
       "5521       70  2015     BHS  I bring you, Sir, and the Assembly warm frater...\n",
       "5520       70  2015     ISL  The world has changed enormously since the est..."
      ]
     },
     "execution_count": 71,
     "metadata": {},
     "output_type": "execute_result"
    }
   ],
   "source": [
    "undf.sort_values('year', ascending=False).head()"
   ]
  },
  {
   "cell_type": "markdown",
   "metadata": {},
   "source": [
    "As you can see the data frame is relatively simple.  It consists of a session number, year, country code and text.  Most of the text is hidden because Pandas doesn't want to make the notebook with unreadably long text strings.  In reality most of the texts are very lengthy!"
   ]
  },
  {
   "cell_type": "code",
   "execution_count": 101,
   "metadata": {},
   "outputs": [
    {
     "name": "stdout",
     "output_type": "stream",
     "text": [
      "161    1.\\t It is my privilege to extend to you once again the warm congratulations of the United States delegation on your election to the Presidency of the twenty-fifth session of the General Assembly. Your country has few peers in the contributions it has made to the work of this Organization. Your father was a leader in the League of Nations, and now, in this session of the General Assembly, you are adding a new chapter in the family tradition. In the United Nations community we have long known you as an able spokesman of your country, as a participant in the life of the United Nations from its very beginning and an authority on the Charter, as a leading scholar and practitioner in international law, and as one whose personal outlook is strongly humanitarian and imbued with hope and determination for a better future. We are indeed fortunate to have you to lead us in this session devoted to the strengthening and improvement of the United Nations.\\n2.\\tDuring this session we shall commemorate with fitting ceremony one of the most creative and hopeful events of this century, the founding of the United Nations twenty-five years ago. It is right that this commemoration should be held. It is far more important, however, that the nations gathered at this session should so act together as to strengthen the United Nations for the future, to ensure that we are closer to 'peace, justice and progress' five, ten and twenty- five years hence than we are today. The world is unlikely to care much what we say about the past. It will care a great deal what we do about the future.\\n3.\\tThe problems the world faces today are no less grave than those it faced twenty-five years ago. Indeed they are in many respects far graver. Unless and until the Members of the United Nations demonstrate their willingness to deal effectively with these problems, the confidence of the world's peoples in the United Nations will remain uncertain and precarious.\\n4.\\tIn the view of the United States, the most critical international problem today is the same as that which faced the founders of the United Nations: the need to build a reliable framework for peace and security among nations. As President Nixon said in this Assembly a year ago: '... there is no nobler destiny, nor any greater gift that one age could make to the ages that follow, than to forge the key to a lasting peace'. [1755th meeting, para. 45.]\\n5.\\tIn this conviction the United States has sought in the last two years to frame foreign policies which would help to make the international scene less destructively competitive, less strident, more cooperative and orderly. We have sought, in the spirit of the Charter, to pursue peaceful settlement of all conflicts and confrontations, and we have urged others to do likewise.\\n6.\\tThe most significant of these efforts has been the strategic arms limitation discussions between my country and the Soviet Union. If at last we can check the nuclear arms race, the world will have been helped to move away from its gravest danger and toward new and more rational relationships.\\n7.\\tThe United States also seeks, through a process of serious negotiation, to ease the tensions that arise from the division of Europe. We have welcomed the efforts of the Federal Republic of Germany to normalize relations with its eastern neighbors; we are seeking in fourPower talks to assure the security and wellbeing of the residents of Berlin; we have joined our NATO allies in proposing exploratory talks on the reduction of forces in central Europe. We hope these efforts will find the Soviet Union and its allies forthcoming.\\n8.\\tIn VietNam, over eighteen months ago, the United States reversed the trend in American involvement in the war. We began a steady, uninterrupted reduction in the number of our troops. We have made a negotiated peace our highest priority. Although North VietNam has as yet shown no serious intention to negotiate a solution under which the South VietNamese people can freely decide their own future, this remains our goal and we shall not be discouraged in seeking it.\\nA/PV.1854\\n9.\\tMy Government has likewise sought ways to move toward a constructive relationship with mainland China. To this end, we have taken a number of unilateral steps to ease tensions. We are ready at any time to resume the talks in Warsaw.\\n10.\\tFinally, nowhere in the world today is there more urgent need to move from confrontation to negotiation than in the Middle East. The legacy of bitterness, hatred and suspicion there contains the seeds of even greater tragedy not only for the Middle East but for the world, unless there is early progress toward reconciliation and peace based on the legitimate interests of all the States and peoples of the region.\\n11.\\tAs the United Nations community well knows, the United States has made major diplomatic efforts in recent months and weeks to help bring about peace at long last in the Middle East. While recent developments in the area, including the tragic death of President Nasser, have cast a shadow over the high hopes of just a few weeks ago that a beginning toward that goal had been made, those hopes have not been extinguished. For the most part, the guns remain silent along the ceasefire lines. Security Council resolution 242 (1967) stands as a beacon pointing the way to peace, and the parties concerned, in accepting the United States initiative of June, have committed themselves to carry out that resolution in all its parts. Ambassador Jarring is ready to resume his mission whenever conditions permit. We earnestly hope that the parties themselves and all others concerned will now bend every effort to the task of building on the beginning that has already been made.\\n12.\\tThis will require above all serious steps to restore and strengthen confidence in the integrity of the ceasefire and military standstill agreement along the Suez Canal. It will also require, if negotiations are to move forward, a willingness by the parties to move from their maximum positions on the elements of a realistic and equitable peace settlement. In this spirit, my Government is prepared to contribute to renewed efforts toward peace in the Middle East.\\n13.\\tIn this anniversary year the United States, like many other Members, has given especially careful thought to means by which the United Nations can be better enabled to fulfill its purposes.\\n14.\\tMy delegation has listened, and will continue to listen attentively, to the suggestions of others in this regard. In the same spirit the United States will offer proposals, or support the proposals of others, with these objectives among others: first, to put United Nations peacekeeping operations on a firmer and more reliable basis; second, to make the United Nations more effective in the peaceful settlement of disputes; third, to promote new steps in the field of disarmament; fourth, to move closer by peaceful means to the goals of decolonization and human equality; fifth, to support the Second Development Decade; sixth, to help slow down too rapid rates of population growth; seventh, to promote the exploitation of the seabeds and outer space for human benefit; eighth, to organize common action within the United Nations to safeguard the global environment; ninth, to encourage young people from all parts of the world to devote themselves to international service; tenth, to improve the organization, administration and procedures of the United Nations.\\n15.\\tIf the twenty-fifth General Assembly were to move forward substantially in these directions, this session would indeed rank as one of the most fruitful in United Nations history.\\n16.\\tLet me now comment briefly on these points.\\n17.\\tWe shall all of us on this podium and in the First Committee have much to say during this session about strengthening international peace and security, and about the need to live up to the Charter. This is quite proper. However, what is needed most in this respect is not still more sweeping declarations that merely restate the purposes and principles of the Charter. What is needed is more effective United Nations action on the concrete issues before us, on the Middle East, on United Nations peacekeeping procedures, on means of pacific settlement. Until we demonstrate our willingness to take such effective action, world opinion will continue to be skeptical, no matter what ringing declarations we may make, as to whether the Members of the United Nations are really serious about strengthening international peace and security.\\n18.\\tI now come to a subject which should be at the very center of our concern if we wish in fact to strengthen peace and security through the United Nations. I speak of United Nations peacekeeping.\\n19.\\tBecause the world situation in the past twenty- five years developed differently from what the founders of the United Nations foresaw, it has not been found possible to create forces for the maintenance of international peace and security along the lines laid down in certain articles of Chapter VII. We would hope that at some point the provisions of the Charter designed for enforcement action can be implemented.\\n20.\\tIn the meantime, however, a modus vivendi has been built up, entirely consistent with the Charter, which has carried out significant and successful peacekeeping operations, sometimes with observers, sometimes with substantial forces, in the Middle East, in Kashmir, in the Congo, in Cyprus and elsewhere. Still it is all too clear that these ad hoc and improvised arrangements need major improvement in several respects if future peacekeeping is to be effective.\\n21.\\tThe Assembly's Special Committee on Peacekeeping Operations, under the able and patient leadership of Ambassador Cuevas Cancino of Mexico, has been laboring for nearly two years at the task of developing peacekeeping guidelines. During the past year the United States has put forward concrete proposals for new procedures that would meet the political concerns of all and yet allow United Nations forces to move rapidly to carry out decisions of the Security Council. But the broad agreement that all desire is still lacking.\\n22.\\tIt is high time however that the General Assembly, in this twenty-fifth anniversary year, demanded significant movement on this problem. It would be a mistake not to move at all until all are agreed to move all the way. There is strong reason and sufficient consensus for some forward movement at this Assembly. The United States will be prepared to join with others in concrete proposals to this effect.\\n23.\\tIn this connexion we welcome the statement made at Lusaka in the Declaration of the nonaligned countries concerning the United Nations, that measures should be taken at this session of the General Assembly to strengthen United Nations peacekeeping, and we look forward with interest to proposals that may be made by those present at that meeting.\\n24.\\tOf course, peacekeeping without peaceful settlement is only an expedient, necessary but incomplete and inconclusive. The most potent preventive of conflict is not machinery but the will of disputing parties to show restraint and a spirit of conciliation, and to persist in peaceful methods until settlement is reached. This is a solemn obligation of every United Nations Member under the Charter, and no nation deserves more honor than those who have lived up to it in spite of every obstacle.\\n25.\\tIn this past year such peaceful settlements, or major steps towards them, have been recorded in a number of situations which reflect great credit on the statesmanship of those involved. I have in mind, for example, the progress made, with the assistance of the Organization of American States, toward resolving the dispute between El Salvador and Honduras; and also the recent peaceful decision on the future of Bahrain, in which good offices provided by the Secretary General played a major role.\\n26.\\tAs these cases show, where the will to settle exists, effective machinery can do much to help. This is true of regional organizations, and it is no less true of the relevant organs of the United Nations, above all the Security Council.\\n27.\\tIn this connexion we have welcomed the Security Council's decision [see 1544th meeting] as proposed by Finland, to hold periodic high-level meetings under Article 28 of the Charter. My country looks forward to taking part in the first such meeting later this fall. We welcome likewise the valuable suggestion of Brazil committees of the Council, including the parties to a dispute, might be created to help settle particular disputes.\\n28.\\tTo the same end, the United States would favor the reactivation of certain machinery for peaceful settlement which has long been dormant. Many years ago the General Assembly created a Panel on Inquiry and Conciliation [resolution 268 (III)], and more recently a register of fact-finding experts. My Government will soon nominate qualified individuals for both of these bodies. We believe fact-finders should be available to\\n1 Third Conference of Heads of State or Government of Non Aligned Countries, held at Lusaka, Zambia, from 8 to 10 September 1970.\\nthe SecretaryGeneral or other organs of the United Nations, or directly to Member States, to report on the facts of situations of international concern at the request or with the consent of one or more of the parties.\\n29.\\tFinally, it is most important that we rejuvenate and strengthen the highest organ of judicial settlement, the International Court of Justice. The United States recently joined with others in the Security Council in referring to the Court for its advisory opinion certain aspects of the Namibia situation. We have also joined with others in submitting to this General Assembly an agenda item calling for a review of the role of the Court. We hope this review will suggest ways to enable the Court to make a more substantial contribution to the establishment of the rule of law among nations.\\n30.\\tThe world has witnessed in recent weeks shocking examples of the consequences of failure to abide by this rule of law examples which have been alluded to by numerous previous speakers on this podium. Hundreds of innocent individuals engaged in peaceful international travel have been brutally seized as hostages in a conflict in which they were in no way involved. Not only their safety and convenience have been placed in jeopardy but their very lives. As President Nixon pointed out in this forum a year ago, this issue 'involves the interests of. . . every air passenger and the integrity of that structure of order upon which a world community depends' [1755th meeting, para. 74].\\n31.\\tThat this view is widely shared is evident from the almost universal condemnation of these most recent acts by Governments the world over and by the resolution on this matter adopted unanimously by the Security Council [286 (1970)]. But condemnation is not enough. It is time to act. The Tokyo Convention, providing for the prompt return of hijacked aircraft passengers and crew, requires the broadest international support. The same is true of the International Civil Aviation Organization's draft multilateral convention for the extradition and punishment of hijackers. In addition, the United States has submitted new proposals to the ICAO, for which I urge your most earnest consideration and support.\\n32.\\tThe General Assembly's extensive annual debates and resolutions on many aspects of arms control and disarmament have long played, and continue to play, an important part in international negotiations on this most critical of all our problems. I need only mention the partial nuclear test-ban Treaty,  the outer space Treaty [resolution 2222 (XXI)] and the Treaty on the NonProliferation of Nuclear Weapons [resolution 2373 (XXII)]. The disarmament conference at Geneva has this year registered significant progress by achieving wide consensus on a draft treaty to prohibit the emplacement of weapons of mass destruction on a vast area of the earth's surface the seabed beneath the oceans.  We hope this draft treaty will be supported by the General Assembly at this session and opened for signature shortly thereafter.\\n33.\\tI can assure the Assembly that the United States Government is unceasingly aware of the worldwide concern and need for an end to the arms race and the perilous burden of armaments in all its forms, and that we shall do whatever one negotiating partner can do to bring about new agreements on new steps toward the ultimate goal of general and complete disarmament.\\n34.\\tPermit me to say a word about a matter of quite different but equally wide concern that of human rights throughout the world.\\n35.\\tIn addition to the basic responsibility of Governments to maintain human rights for all their citizens, the United Nations under the Charter has a clear responsibility in this regard. To strengthen the implementation of that responsibility my Government hopes the General Assembly at this session will create a new post, that of High Commissioner for Human Rights, to advise United Nations organs in this field and to assist States, at their request, with human rights problems. This proposal has been thoroughly studied and fully justified. It deserves a high priority at the twenty-fifth session of the General Assembly.\\n36.\\tA particular issue of human rights that is of acute concern to my Government, among others, is the protection of the rights of prisoners of war. While these rights have long since been internationally guaranteed, they are in practice still denied to many prisoners of war, as American wives and families of such prisoners know to their great sorrow. The United States strongly hopes that this Assembly will press for worldwide observance of the Geneva Convention relative to the Treatment of Prisoners of War, verified by impartial inspection. It is intolerable that the tragedy of armed conflict should be compounded by additional inhumanities in violation of international norms.\\n37.\\tIn no field have the aims of the United Nations found more dramatic fulfilment during its first quarter of a century than in the field of decolonization. Before the Second World War a third of mankind lived in colonial dependencies. Today the proportion is less than 1 per cent. A revolution of independence has created some sixty new nations and has been the main factor in increasing the membership of the United Nations from 51 to 126.\\n38.\\tHowever, the situation in much of southern Africa is still characterized by the denial of self-determination and of racial equality. The United Nations and its member States must continue to exert peaceful efforts to defend and advance these basic human rights of the peoples concerned. Their cause is just and must in time prevail.\\n39.\\tAgainst these evils the United States in recent months has taken further steps. We put into effect last May a new policy designed to discourage United States investment in, and trade with, Namibia so long as South Africa remains in unlawful occupation. We urge other Governments to join us in this policy. My Government continues strictly to observe resolutions in regard to sanctions against the illegal regime in Rhodesia and in regard to the sale of arms to South Africa. We have closed our consulate in Salisbury. We shall continue in every peaceful and practicable way to pursue the ends of justice, equality and self determination.\\n40.\\tHigh on the list of the United Nations contributions to human progress is its longstanding effort to assist in comprehensive global development. That effort is being continued and, we hope, improved and strengthened through the launching of the Second United Nations Development Decade.\\n41.\\tThe success of the Decade will depend most of all on the policies of Member States, both developed and developing. To bring all these policies into effective focus is the ambitious aim of the development strategy. The United States strongly supports the strategy which is before this Assembly [A 17982, para. 16] and intends to participate fully in this common enterprise.\\n42.\\tI wish to leave no doubt of the serious commitment of the United States to the Second Development Decade. President Nixon, in a series of policy decisions and especially in his recent announcement on the new focus of United States economic assistance, has made clear our intention:\\n(a)\\tTo reverse the downward trend in United States development assistance;\\n(b)\\tTo increase substantially United States contributions to multilateral development institutions including the World Bank, the International Development Association, the regional development banks and the United Nations Development program so that, as the capabilities of these institutions increase, we may be able to channel through them most of our official development assistance;\\n(c)\\tFurther to encourage the efforts of donor nations to 'untie' their bilateral aid to developing countries from the obligation to import products of the donor country;\\n(<d) To bring United States science and technology more effectively to bear on the problems of development, and for this purpose to create a new United States International Development Institute;\\n(<?) To take new steps to stimulate American private investment in developing countries within the framework of the developing countries' plans.\\n43.\\tThese approaches are already reflected in the new policies my country has announced toward Latin America and Africa, which stress continued assistance, greater multilateral participation, and increased trade and investment.\\n44.\\tFinally, bearing in mind the crucial connexion between trade and development, the United States is pressing for a liberalized system of generalized tariff preferences for products of developing countries, with preferential access to the American market, and we are urging that the developing countries receive similar access to the markets of all developed countries.\\n45.\\tI wish to add a particular comment on the role of the United Nations Development program. This program, in cooperation with the specialized agencies, has done important pioneering work in development assistance. Its machinery, however, was built for a smaller program and must be reorganized to meet its growing responsibilities. With the aid of last year's excellent 'capacity study' ,  the program is now preparing to put the necessary reforms into effect. In planning our future contributions to this important program we in the United States will give major weight to the progress actually achieved m undertaking these reforms.\\n46.\\tIn recent years people all over the world have suddenly awakened to the inexorable and tragic fact that excessive population growth can, if continued much longer, frustrate all our hopes for peace, justice and progress. There can be no progress for the majority of mankind if population growth outstrips all available means of development. There can be no justice for the majority of mankind where population expands faster than production and social services. There can be no peace for the majority of mankind where progress and justice are unattainable because of unrestrained population growth.\\n47.\\tThis is not a problem confined to either developed or developing countries. In my own country, although our growth rate has recently slowed to about 1 per cent a year, we have adopted as a national goal the availability within five years of family planning services to every citizen.\\n48.\\tClearly, the need is equally urgent in many nations striving for development whose annual population growth in some cases approaches 4 per cent which means a doubling of the number of people in less than twenty- years. The care and feeding of such enormous numbers of dependent children, their upbringing in conditions compatible with human dignity, could constitute such a burden as to nullify progress in economic development and to cause living standards to remain at past low levels or even to fall lower.\\n49.\\tThe United States is convinced that the vigorous pursuit of family planning policies is an indispensable element in the strategy of development. In this conviction we have pledged this year $7.5 million to the recently established United Nations Fund for Population Activities, whose services to requesting Governments are rapidly growing.\\n50.\\tIn the context of development I wish also to emphasize the enormous potential of the world's deep seabeds, whose exploitation is just now beginning to come within the reach of our technology.\\n51.\\tLast May President Nixon, in a farreaching announcement concerning the oceans, proposed that an international regime be established by treaty for the exploitation of seabed resources beyond the depth of 200 meters. He further proposed that this regime 'should provide for the collection of substantial mineral royalties to be used for international community purposes, particularly economic assistance to developing countries'. Early in August the United States circulated in the United Nations seabed Committee  a draft convention [A18021, annex V], embodying these and other important proposals in the President's announcement.\\n52.\\tThese proposals, if carried out, will amount to a new departure in the history of nations. Never in history has the exploitation of resources of such great potential value been placed under the supervision and regulation of an effective international authority. Never in history has assurance been offered that the international community could have a substantial, independent source of revenue to be equitably divided to serve the interests of mankind as a whole.\\n53.\\tThe United States hopes that the twenty-fifth session of the General Assembly will advance this important enterprise so that a sound and workable international seabed regime, backed up by effective machinery, can come into being as soon as possible. To this end it is important that States refrain from making further claims to jurisdiction over the seabeds or over the waters of the oceans. We believe that a conference on subjects related to the law of the sea, including seabeds, should be called as soon as practicable and that preparatory steps should be initiated by this session of the General Assembly.\\n54.\\tI come now to an issue of critical and rapidly growing importance the protection of the human environment. Development and protection of the environment are not mutually contradictory; indeed, they must go hand in hand if the world is to be a fit place in which to live. The United Nations is in a key position to foster the necessary cooperation so that the needs of the environment, as well as those of development, receive the energetic attention they require.\\n55.\\tAlready the plans for the United Nations Conference on the Human Environment in 1972 have begun to take shape and have helped to focus the attention of United Nations Member Governments on this worldwide challenge; but we should not wait for the Stockholm Conference before launching necessary initiatives.\\n56.\\tTherefore the United States urges that all of us here, representing both developed and developing countries, work together to enable the United Nations to take the following steps. Firstly, it should identify those environmental problems, especially those pollutants in the atmosphere and the oceans, which are or may be dangerous on a global scale. Second, it should make plans for a coordinated world monitoring network to keep track of these environmental dangers. This network should build on existing programs, particularly those of the agencies of the United Nations family, and should use the most advanced data processing and satellite technology, such as the earth resource survey satellites which my country has been developing. Third, it should collect and analyze the suggestions of governments concerning environmental guidelines for States, both developed and developing, as well as for international institutions engaged in development programs. Fourth, it should explore the possibility of establishing international air and water quality standards. The United States hopes the Assembly at this session will act to advance those important objectives.\\n51. A newly acute problem which threatens a growing number of societies is the epidemic spread of addiction to dangerous drugs, especially among young people. This phenomenon has mushroomed in a very few years, not only in my own country but in a number of others, both developed and developing. It creates untold misery, violence, lawlessness and economic and human loss.This menace must be stopped. To do so it will be necessary to reinforce existing international agreements and to strengthen the longstanding and excellent work of agencies in this field, especially those of the United Nations. We are glad to note that the Commission on Narcotic Drugs is meeting now to deal with the whole range of problems involved, from the poppy field through the international syndicate to the needle in the vein. My Government hopes that an adequate action program will emerge from this process and will command the energetic support of the community of nations. The United States has already offered, subject to Congressional approval, a contribution of $2 million to such a program.\\n58.\\tFinally, it is important that we make better use of the talents of young people in international service, especially the service of the United Nations. Many delegations to this session, including that of the United States, contain youthful members as suggested by the General Assembly a year ago. That is entirely fitting, because the fate of the United Nations and indeed of world peace will soon be in their hands.\\n59.\\tWith that in mind President Nixon, in his address to this Assembly a year ago [1755th meeting], pledged the enthusiastic support of the United States for Iran's proposal to establish an international volunteer service corps [see 1695th meeting, para. 75], to work in the cause of development and to be recruited on an individual basis from the people, principally young people, of many countries. We hope that proposal will be given final approval in the current session. We hope also that the United Nations will seek new ways to encourage able young people to find careers in its Secretariat and those of the other agencies of the United Nations family.\\n60.\\tIn these remarks I have discussed only a few of the major tasks facing the United Nations in the years ahead. Even those, however, are enough tc make it obvious that, if we indeed address ourselves to such tasks, the effectiveness of this Organization will be tested more severely than ever. To meet this test we shall have to be far more attentive than has been our habit to many matters of structure, organization and procedure. For example, I would mention the following.\\n61.\\tIn considering applications for membership by very small States, we must make sure that they are not only willing but also, as the Charter stipulates, able to carry out the Charter's obligations. As the SecretaryGeneral has for years pointed out, many Territories now moving towards independence are too small, either in population or in resources or both, to carry out the minimum obligations which membership requires. Yet these very small entities need more than most the assistance that the United Nations system can provide. Where the burden of membership would be excessive, we should provide a form of association with the United Nations which would enable such States to enjoy the benefits without the burdens of the system.\\n62.\\tThe persistence of the United Nations financial deficit undermines confidence in the Organization, threatens its capabilities in many fields and casts a cloud over its future. The United States welcomes the SecretaryGeneral's recent call for 'a concerted effort to restore the financial solvency of the Organization'. We hope that he will himself take a lead in such an effort, in which we shall certainly play our part.\\n63.\\tIn the annual choice of non-permanent members of the Security Council, it would be well that, as the Charter requires, due regard be specially paid, in the first instance, to the prospective member's contribution to the maintenance of international peace and security, rather than merely to rotation among the members of geographic groups.\\n64.\\tThe primary consideration in selecting individuals for posts in the Secretariat, above all for senior posts, should be fully to meet the Charter's 'paramount consideration' namely 'the highest standards of efficiency, competence, and integrity'.\\n65.\\tWe must at long last take decisive steps to streamline the excessively time-consuming organization and procedures of the General Assembly, as Canada has wisely proposed, or else we shall either 'drown in a sea of words' or suffocate under an avalanche of paper.\\n66.\\tWe must take more effective measures to ensure that the entire United Nations system is so organized and managed that it responds efficiently to the directives of its governing organs and to the priority needs of the world. That will require much better administrative and budgetary coordination and control than we have yet achieved.\\n67.\\tThe United States offers these suggestions in the spirit of the twenty-fifth anniversary session, which we understand to be a spirit of sober determination to make this Organization more effective, to make its future more responsive than its past to the imperative needs of men, women and children everywhere. Many other delegations have offered or will offer their proposals in the same spirit. The test of our seriousness and our success will be how much of this agenda of objectives we can begin to carry out.\\n68.\\tWe are assembled from the four corners of the earth. The interests of the Governments we speak for often seem to be and sometimes are in contradiction. But by our presence here, by our commitment to the United Nations and its Charter, we have acknowledged that we also have interests in common, interests in peace, justice and progress, interests in the continued habitability of our planet, common interests which we are at last beginning to recognize are inescapable and overriding.\\n69.\\tThe question now is, do we have the wit not only to perceive these common interests in some vague rhetorical way, but also to act upon them together realistically and decisively even at the cost sometimes of older and narrower interests? If we do not do so, history may sweep aside not only this Organization but also the nations that compose it.\\n70.\\tThe SecretaryGeneral has said that we may have only ten years left to cope effectively with the problems of our times before they become so staggering as to be beyond our capacities. As we enter the Disarmament Decade and the Second Development Decade, let us keep that warning foremost in our minds and let us be determined to act together to avert catastrophe.\\n\\n\\n\\n\\n\n",
      "Name: text, dtype: object\n"
     ]
    }
   ],
   "source": [
    "pd.set_option('display.max_colwidth', -1)\n",
    "print(undf[(undf.year == 1970) & (undf.code_3 == 'USA')].text)\n",
    "pd.set_option('display.max_colwidth', 50)"
   ]
  },
  {
   "cell_type": "markdown",
   "metadata": {},
   "source": [
    "## Reading List\n",
    "\n",
    "* Reshaping data with pandas [One tutorial](https://www.tutorialspoint.com/python_pandas/python_pandas_groupby.htm)\n",
    "* Word Clouds\n",
    "* Text complexity measures\n",
    "\n"
   ]
  },
  {
   "cell_type": "markdown",
   "metadata": {},
   "source": [
    "## Exploratory Questions\n",
    "\n",
    "1. How many speeches were given each year?\n",
    "2. Make a bar graph of the number of speeches each year\n",
    "3. Which country and what year has given the longest speech (by number of words)\n",
    "4. Which country has spoken the most times?\n",
    "5. Which country has spoken the least times?\n",
    "6. Make a graph to illustrate the distribution of the number of times each country has spoken\n",
    "7. What were the 25 most commonly used words in the 1970 session?\n",
    "8. What were the 25 most commonly used words in the 2015 session?"
   ]
  },
  {
   "cell_type": "markdown",
   "metadata": {},
   "source": [
    "The number of speeches each year will require us to use our new tool of grouping data.  This is the split-apply-combine pattern that you may have learned about previously but is so commonly used in data science that Pandas makes it pretty easy for us."
   ]
  },
  {
   "cell_type": "code",
   "execution_count": 72,
   "metadata": {},
   "outputs": [
    {
     "data": {
      "text/html": [
       "<div>\n",
       "<style scoped>\n",
       "    .dataframe tbody tr th:only-of-type {\n",
       "        vertical-align: middle;\n",
       "    }\n",
       "\n",
       "    .dataframe tbody tr th {\n",
       "        vertical-align: top;\n",
       "    }\n",
       "\n",
       "    .dataframe thead th {\n",
       "        text-align: right;\n",
       "    }\n",
       "</style>\n",
       "<table border=\"1\" class=\"dataframe\">\n",
       "  <thead>\n",
       "    <tr style=\"text-align: right;\">\n",
       "      <th></th>\n",
       "      <th>year</th>\n",
       "      <th>text</th>\n",
       "    </tr>\n",
       "  </thead>\n",
       "  <tbody>\n",
       "    <tr>\n",
       "      <th>0</th>\n",
       "      <td>1970</td>\n",
       "      <td>70</td>\n",
       "    </tr>\n",
       "    <tr>\n",
       "      <th>1</th>\n",
       "      <td>1971</td>\n",
       "      <td>116</td>\n",
       "    </tr>\n",
       "    <tr>\n",
       "      <th>2</th>\n",
       "      <td>1972</td>\n",
       "      <td>125</td>\n",
       "    </tr>\n",
       "    <tr>\n",
       "      <th>3</th>\n",
       "      <td>1973</td>\n",
       "      <td>120</td>\n",
       "    </tr>\n",
       "    <tr>\n",
       "      <th>4</th>\n",
       "      <td>1974</td>\n",
       "      <td>129</td>\n",
       "    </tr>\n",
       "  </tbody>\n",
       "</table>\n",
       "</div>"
      ],
      "text/plain": [
       "   year  text\n",
       "0  1970    70\n",
       "1  1971   116\n",
       "2  1972   125\n",
       "3  1973   120\n",
       "4  1974   129"
      ]
     },
     "execution_count": 72,
     "metadata": {},
     "output_type": "execute_result"
    }
   ],
   "source": [
    "by_year = undf.groupby('year', as_index=False)['text'].count()\n",
    "by_year.head()"
   ]
  },
  {
   "cell_type": "code",
   "execution_count": 73,
   "metadata": {},
   "outputs": [
    {
     "data": {
      "application/vnd.vegalite.v2+json": {
       "$schema": "https://vega.github.io/schema/vega-lite/v2.6.0.json",
       "config": {
        "view": {
         "height": 300,
         "width": 400
        }
       },
       "data": {
        "name": "data-3d48a3f7428e60fa48f93d01de7e39f9"
       },
       "datasets": {
        "data-3d48a3f7428e60fa48f93d01de7e39f9": [
         {
          "text": 70,
          "year": 1970
         },
         {
          "text": 116,
          "year": 1971
         },
         {
          "text": 125,
          "year": 1972
         },
         {
          "text": 120,
          "year": 1973
         },
         {
          "text": 129,
          "year": 1974
         },
         {
          "text": 126,
          "year": 1975
         },
         {
          "text": 134,
          "year": 1976
         },
         {
          "text": 140,
          "year": 1977
         },
         {
          "text": 141,
          "year": 1978
         },
         {
          "text": 144,
          "year": 1979
         },
         {
          "text": 149,
          "year": 1980
         },
         {
          "text": 145,
          "year": 1981
         },
         {
          "text": 147,
          "year": 1982
         },
         {
          "text": 149,
          "year": 1983
         },
         {
          "text": 150,
          "year": 1984
         },
         {
          "text": 137,
          "year": 1985
         },
         {
          "text": 149,
          "year": 1986
         },
         {
          "text": 152,
          "year": 1987
         },
         {
          "text": 154,
          "year": 1988
         },
         {
          "text": 153,
          "year": 1989
         },
         {
          "text": 156,
          "year": 1990
         },
         {
          "text": 162,
          "year": 1991
         },
         {
          "text": 167,
          "year": 1992
         },
         {
          "text": 175,
          "year": 1993
         },
         {
          "text": 178,
          "year": 1994
         },
         {
          "text": 172,
          "year": 1995
         },
         {
          "text": 181,
          "year": 1996
         },
         {
          "text": 176,
          "year": 1997
         },
         {
          "text": 181,
          "year": 1998
         },
         {
          "text": 181,
          "year": 1999
         },
         {
          "text": 178,
          "year": 2000
         },
         {
          "text": 189,
          "year": 2001
         },
         {
          "text": 188,
          "year": 2002
         },
         {
          "text": 189,
          "year": 2003
         },
         {
          "text": 192,
          "year": 2004
         },
         {
          "text": 185,
          "year": 2005
         },
         {
          "text": 193,
          "year": 2006
         },
         {
          "text": 191,
          "year": 2007
         },
         {
          "text": 192,
          "year": 2008
         },
         {
          "text": 193,
          "year": 2009
         },
         {
          "text": 189,
          "year": 2010
         },
         {
          "text": 194,
          "year": 2011
         },
         {
          "text": 195,
          "year": 2012
         },
         {
          "text": 193,
          "year": 2013
         },
         {
          "text": 194,
          "year": 2014
         },
         {
          "text": 193,
          "year": 2015
         }
        ]
       },
       "encoding": {
        "x": {
         "field": "year",
         "type": "nominal"
        },
        "y": {
         "field": "text",
         "type": "quantitative"
        }
       },
       "mark": "bar"
      },
      "image/png": "[encoded data removed]",
      "text/plain": [
       "<VegaLite 2 object>\n",
       "\n",
       "If you see this message, it means the renderer has not been properly enabled\n",
       "for the frontend that you are using. For more information, see\n",
       "https://altair-viz.github.io/user_guide/troubleshooting.html\n"
      ]
     },
     "execution_count": 73,
     "metadata": {},
     "output_type": "execute_result"
    }
   ],
   "source": [
    "alt.Chart(by_year).mark_bar().encode(x='year:N',y='text')"
   ]
  },
  {
   "cell_type": "code",
   "execution_count": 74,
   "metadata": {},
   "outputs": [
    {
     "data": {
      "text/html": [
       "<div>\n",
       "<style scoped>\n",
       "    .dataframe tbody tr th:only-of-type {\n",
       "        vertical-align: middle;\n",
       "    }\n",
       "\n",
       "    .dataframe tbody tr th {\n",
       "        vertical-align: top;\n",
       "    }\n",
       "\n",
       "    .dataframe thead th {\n",
       "        text-align: right;\n",
       "    }\n",
       "</style>\n",
       "<table border=\"1\" class=\"dataframe\">\n",
       "  <thead>\n",
       "    <tr style=\"text-align: right;\">\n",
       "      <th></th>\n",
       "      <th>country</th>\n",
       "      <th>text</th>\n",
       "    </tr>\n",
       "  </thead>\n",
       "  <tbody>\n",
       "    <tr>\n",
       "      <th>0</th>\n",
       "      <td>AFG</td>\n",
       "      <td>45</td>\n",
       "    </tr>\n",
       "    <tr>\n",
       "      <th>1</th>\n",
       "      <td>AGO</td>\n",
       "      <td>38</td>\n",
       "    </tr>\n",
       "    <tr>\n",
       "      <th>2</th>\n",
       "      <td>ALB</td>\n",
       "      <td>46</td>\n",
       "    </tr>\n",
       "    <tr>\n",
       "      <th>3</th>\n",
       "      <td>AND</td>\n",
       "      <td>22</td>\n",
       "    </tr>\n",
       "    <tr>\n",
       "      <th>4</th>\n",
       "      <td>ARE</td>\n",
       "      <td>44</td>\n",
       "    </tr>\n",
       "  </tbody>\n",
       "</table>\n",
       "</div>"
      ],
      "text/plain": [
       "  country  text\n",
       "0     AFG    45\n",
       "1     AGO    38\n",
       "2     ALB    46\n",
       "3     AND    22\n",
       "4     ARE    44"
      ]
     },
     "execution_count": 74,
     "metadata": {},
     "output_type": "execute_result"
    }
   ],
   "source": [
    "by_country = undf.groupby('country',as_index=False)['text'].count()\n",
    "by_country.head()"
   ]
  },
  {
   "cell_type": "code",
   "execution_count": 75,
   "metadata": {},
   "outputs": [
    {
     "data": {
      "application/vnd.vegalite.v2+json": {
       "$schema": "https://vega.github.io/schema/vega-lite/v2.6.0.json",
       "config": {
        "view": {
         "height": 300,
         "width": 400
        }
       },
       "data": {
        "name": "data-fe1a63bd77ed40aff3ec8837f956f973"
       },
       "datasets": {
        "data-fe1a63bd77ed40aff3ec8837f956f973": [
         {
          "country": "AFG",
          "text": 45
         },
         {
          "country": "AGO",
          "text": 38
         },
         {
          "country": "ALB",
          "text": 46
         },
         {
          "country": "AND",
          "text": 22
         },
         {
          "country": "ARE",
          "text": 44
         },
         {
          "country": "ARG",
          "text": 46
         },
         {
          "country": "ARM",
          "text": 24
         },
         {
          "country": "ATG",
          "text": 32
         },
         {
          "country": "AUS",
          "text": 46
         },
         {
          "country": "AUT",
          "text": 46
         },
         {
          "country": "AZE",
          "text": 24
         },
         {
          "country": "BDI",
          "text": 45
         },
         {
          "country": "BEL",
          "text": 46
         },
         {
          "country": "BEN",
          "text": 44
         },
         {
          "country": "BFA",
          "text": 45
         },
         {
          "country": "BGD",
          "text": 42
         },
         {
          "country": "BGR",
          "text": 45
         },
         {
          "country": "BHR",
          "text": 44
         },
         {
          "country": "BHS",
          "text": 37
         },
         {
          "country": "BIH",
          "text": 24
         },
         {
          "country": "BLR",
          "text": 46
         },
         {
          "country": "BLZ",
          "text": 34
         },
         {
          "country": "BOL",
          "text": 46
         },
         {
          "country": "BRA",
          "text": 46
         },
         {
          "country": "BRB",
          "text": 43
         },
         {
          "country": "BRN",
          "text": 31
         },
         {
          "country": "BTN",
          "text": 41
         },
         {
          "country": "BWA",
          "text": 40
         },
         {
          "country": "CAF",
          "text": 42
         },
         {
          "country": "CAN",
          "text": 46
         },
         {
          "country": "CHE",
          "text": 14
         },
         {
          "country": "CHL",
          "text": 45
         },
         {
          "country": "CHN",
          "text": 45
         },
         {
          "country": "CIV",
          "text": 33
         },
         {
          "country": "CMR",
          "text": 41
         },
         {
          "country": "COD",
          "text": 44
         },
         {
          "country": "COG",
          "text": 46
         },
         {
          "country": "COL",
          "text": 46
         },
         {
          "country": "COM",
          "text": 39
         },
         {
          "country": "CPV",
          "text": 38
         },
         {
          "country": "CRI",
          "text": 45
         },
         {
          "country": "CSK",
          "text": 22
         },
         {
          "country": "CUB",
          "text": 46
         },
         {
          "country": "CYP",
          "text": 45
         },
         {
          "country": "CZE",
          "text": 23
         },
         {
          "country": "DDR",
          "text": 18
         },
         {
          "country": "DEU",
          "text": 43
         },
         {
          "country": "DJI",
          "text": 29
         },
         {
          "country": "DMA",
          "text": 29
         },
         {
          "country": "DNK",
          "text": 43
         },
         {
          "country": "DOM",
          "text": 44
         },
         {
          "country": "DZA",
          "text": 46
         },
         {
          "country": "ECU",
          "text": 46
         },
         {
          "country": "EGY",
          "text": 44
         },
         {
          "country": "ERI",
          "text": 23
         },
         {
          "country": "ESP",
          "text": 45
         },
         {
          "country": "EST",
          "text": 25
         },
         {
          "country": "ETH",
          "text": 45
         },
         {
          "country": "EU",
          "text": 5
         },
         {
          "country": "FIN",
          "text": 45
         },
         {
          "country": "FJI",
          "text": 43
         },
         {
          "country": "FRA",
          "text": 46
         },
         {
          "country": "FSM",
          "text": 24
         },
         {
          "country": "GAB",
          "text": 42
         },
         {
          "country": "GBR",
          "text": 46
         },
         {
          "country": "GEO",
          "text": 23
         },
         {
          "country": "GHA",
          "text": 46
         },
         {
          "country": "GIN",
          "text": 45
         },
         {
          "country": "GMB",
          "text": 38
         },
         {
          "country": "GNB",
          "text": 38
         },
         {
          "country": "GNQ",
          "text": 39
         },
         {
          "country": "GRC",
          "text": 45
         },
         {
          "country": "GRD",
          "text": 40
         },
         {
          "country": "GTM",
          "text": 46
         },
         {
          "country": "GUY",
          "text": 42
         },
         {
          "country": "HND",
          "text": 44
         },
         {
          "country": "HRV",
          "text": 24
         },
         {
          "country": "HTI",
          "text": 44
         },
         {
          "country": "HUN",
          "text": 45
         },
         {
          "country": "IDN",
          "text": 46
         },
         {
          "country": "IND",
          "text": 46
         },
         {
          "country": "IRL",
          "text": 45
         },
         {
          "country": "IRN",
          "text": 46
         },
         {
          "country": "IRQ",
          "text": 46
         },
         {
          "country": "ISL",
          "text": 46
         },
         {
          "country": "ISR",
          "text": 46
         },
         {
          "country": "ITA",
          "text": 46
         },
         {
          "country": "JAM",
          "text": 45
         },
         {
          "country": "JOR",
          "text": 45
         },
         {
          "country": "JPN",
          "text": 46
         },
         {
          "country": "KAZ",
          "text": 24
         },
         {
          "country": "KEN",
          "text": 45
         },
         {
          "country": "KGZ",
          "text": 24
         },
         {
          "country": "KHM",
          "text": 42
         },
         {
          "country": "KIR",
          "text": 13
         },
         {
          "country": "KNA",
          "text": 30
         },
         {
          "country": "KOR",
          "text": 25
         },
         {
          "country": "KWT",
          "text": 45
         },
         {
          "country": "LAO",
          "text": 45
         },
         {
          "country": "LBN",
          "text": 42
         },
         {
          "country": "LBR",
          "text": 45
         },
         {
          "country": "LBY",
          "text": 44
         },
         {
          "country": "LCA",
          "text": 32
         },
         {
          "country": "LIE",
          "text": 26
         },
         {
          "country": "LKA",
          "text": 46
         },
         {
          "country": "LSO",
          "text": 41
         },
         {
          "country": "LTU",
          "text": 25
         },
         {
          "country": "LUX",
          "text": 43
         },
         {
          "country": "LVA",
          "text": 25
         },
         {
          "country": "MAR",
          "text": 46
         },
         {
          "country": "MCO",
          "text": 23
         },
         {
          "country": "MDA",
          "text": 24
         },
         {
          "country": "MDG",
          "text": 42
         },
         {
          "country": "MDV",
          "text": 39
         },
         {
          "country": "MEX",
          "text": 46
         },
         {
          "country": "MHL",
          "text": 24
         },
         {
          "country": "MKD",
          "text": 23
         },
         {
          "country": "MLI",
          "text": 43
         },
         {
          "country": "MLT",
          "text": 42
         },
         {
          "country": "MMR",
          "text": 45
         },
         {
          "country": "MNE",
          "text": 10
         },
         {
          "country": "MNG",
          "text": 45
         },
         {
          "country": "MOZ",
          "text": 40
         },
         {
          "country": "MRT",
          "text": 45
         },
         {
          "country": "MUS",
          "text": 45
         },
         {
          "country": "MWI",
          "text": 36
         },
         {
          "country": "MYS",
          "text": 45
         },
         {
          "country": "NAM",
          "text": 26
         },
         {
          "country": "NER",
          "text": 44
         },
         {
          "country": "NGA",
          "text": 45
         },
         {
          "country": "NIC",
          "text": 44
         },
         {
          "country": "NLD",
          "text": 46
         },
         {
          "country": "NOR",
          "text": 44
         },
         {
          "country": "NPL",
          "text": 45
         },
         {
          "country": "NRU",
          "text": 16
         },
         {
          "country": "NZL",
          "text": 46
         },
         {
          "country": "OMN",
          "text": 43
         },
         {
          "country": "PAK",
          "text": 46
         },
         {
          "country": "PAN",
          "text": 42
         },
         {
          "country": "PER",
          "text": 46
         },
         {
          "country": "PHL",
          "text": 46
         },
         {
          "country": "PLW",
          "text": 18
         },
         {
          "country": "PNG",
          "text": 40
         },
         {
          "country": "POL",
          "text": 45
         },
         {
          "country": "PRK",
          "text": 25
         },
         {
          "country": "PRT",
          "text": 44
         },
         {
          "country": "PRY",
          "text": 45
         },
         {
          "country": "PSE",
          "text": 18
         },
         {
          "country": "QAT",
          "text": 45
         },
         {
          "country": "ROU",
          "text": 45
         },
         {
          "country": "RUS",
          "text": 45
         },
         {
          "country": "RWA",
          "text": 46
         },
         {
          "country": "SAU",
          "text": 34
         },
         {
          "country": "SDN",
          "text": 46
         },
         {
          "country": "SEN",
          "text": 44
         },
         {
          "country": "SGP",
          "text": 45
         },
         {
          "country": "SLB",
          "text": 33
         },
         {
          "country": "SLE",
          "text": 45
         },
         {
          "country": "SLV",
          "text": 46
         },
         {
          "country": "SMR",
          "text": 24
         },
         {
          "country": "SOM",
          "text": 36
         },
         {
          "country": "SSD",
          "text": 5
         },
         {
          "country": "STP",
          "text": 31
         },
         {
          "country": "SUR",
          "text": 40
         },
         {
          "country": "SVK",
          "text": 23
         },
         {
          "country": "SVN",
          "text": 24
         },
         {
          "country": "SWE",
          "text": 44
         },
         {
          "country": "SWZ",
          "text": 37
         },
         {
          "country": "SYC",
          "text": 27
         },
         {
          "country": "SYR",
          "text": 46
         },
         {
          "country": "TCD",
          "text": 44
         },
         {
          "country": "TGO",
          "text": 45
         },
         {
          "country": "THA",
          "text": 44
         },
         {
          "country": "TJK",
          "text": 24
         },
         {
          "country": "TKM",
          "text": 20
         },
         {
          "country": "TLS",
          "text": 13
         },
         {
          "country": "TON",
          "text": 15
         },
         {
          "country": "TTO",
          "text": 39
         },
         {
          "country": "TUN",
          "text": 46
         },
         {
          "country": "TUR",
          "text": 46
         },
         {
          "country": "TUV",
          "text": 15
         },
         {
          "country": "TZA",
          "text": 45
         },
         {
          "country": "UGA",
          "text": 42
         },
         {
          "country": "UKR",
          "text": 46
         },
         {
          "country": "URY",
          "text": 46
         },
         {
          "country": "USA",
          "text": 46
         },
         {
          "country": "UZB",
          "text": 20
         },
         {
          "country": "VAT",
          "text": 13
         },
         {
          "country": "VCT",
          "text": 34
         },
         {
          "country": "VEN",
          "text": 46
         },
         {
          "country": "VNM",
          "text": 38
         },
         {
          "country": "VUT",
          "text": 30
         },
         {
          "country": "WSM",
          "text": 31
         },
         {
          "country": "YDYE",
          "text": 19
         },
         {
          "country": "YEM",
          "text": 45
         },
         {
          "country": "YUG",
          "text": 37
         },
         {
          "country": "ZAF",
          "text": 27
         },
         {
          "country": "ZMB",
          "text": 41
         },
         {
          "country": "ZWE",
          "text": 35
         }
        ]
       },
       "encoding": {
        "x": {
         "bin": true,
         "field": "text",
         "type": "quantitative"
        },
        "y": {
         "aggregate": "count",
         "type": "quantitative"
        }
       },
       "mark": "bar",
       "title": "speech distribution"
      },
      "image/png": "[encoded data removed]",
      "text/plain": [
       "<VegaLite 2 object>\n",
       "\n",
       "If you see this message, it means the renderer has not been properly enabled\n",
       "for the frontend that you are using. For more information, see\n",
       "https://altair-viz.github.io/user_guide/troubleshooting.html\n"
      ]
     },
     "execution_count": 75,
     "metadata": {},
     "output_type": "execute_result"
    }
   ],
   "source": [
    "alt.Chart(by_country,title='speech distribution').mark_bar().encode(x=alt.X('text',bin=True),y='count()')"
   ]
  },
  {
   "cell_type": "code",
   "execution_count": 76,
   "metadata": {},
   "outputs": [
    {
     "data": {
      "text/plain": [
       "country    ALB\n",
       "text        46\n",
       "Name: 2, dtype: object"
      ]
     },
     "execution_count": 76,
     "metadata": {},
     "output_type": "execute_result"
    }
   ],
   "source": [
    "by_country.loc[by_country.text.idxmax()]"
   ]
  },
  {
   "cell_type": "code",
   "execution_count": 77,
   "metadata": {},
   "outputs": [
    {
     "data": {
      "text/plain": [
       "country    EU\n",
       "text        5\n",
       "Name: 58, dtype: object"
      ]
     },
     "execution_count": 77,
     "metadata": {},
     "output_type": "execute_result"
    }
   ],
   "source": [
    "by_country.loc[by_country.text.idxmin()]"
   ]
  },
  {
   "cell_type": "markdown",
   "metadata": {},
   "source": [
    "Those answers are not very satisfactory as we can only guess as to which country ALB or EU might be.  Somewhat distressingly we see that in one case the three digit code is used and in another a two digit code.  We will want to augment this data using our world factbook data or the data we scraped.  I have a complete table ready for you to load so you don't have to scrape it again."
   ]
  },
  {
   "cell_type": "code",
   "execution_count": 78,
   "metadata": {},
   "outputs": [],
   "source": [
    "#c_codes = pd.read_csv('Data/country_codes.csv')\n",
    "#c_codes.head()"
   ]
  },
  {
   "cell_type": "markdown",
   "metadata": {},
   "source": [
    "## OH NO What the heck!!\n",
    "\n",
    "Unicode errors can be a huge pain, but are a fact of life for anyone dealing with data from multiple sources.  In this case we can use the unix file command to get a bit more information:\n",
    "\n",
    "    $ file -I country_codes.csv                      \n",
    "    country_codes.csv: text/plain; charset=iso-8859-1\n",
    "    \n",
    "Now that we know how the file is encoded we can read it easily    "
   ]
  },
  {
   "cell_type": "code",
   "execution_count": 79,
   "metadata": {},
   "outputs": [
    {
     "data": {
      "text/html": [
       "<div>\n",
       "<style scoped>\n",
       "    .dataframe tbody tr th:only-of-type {\n",
       "        vertical-align: middle;\n",
       "    }\n",
       "\n",
       "    .dataframe tbody tr th {\n",
       "        vertical-align: top;\n",
       "    }\n",
       "\n",
       "    .dataframe thead th {\n",
       "        text-align: right;\n",
       "    }\n",
       "</style>\n",
       "<table border=\"1\" class=\"dataframe\">\n",
       "  <thead>\n",
       "    <tr style=\"text-align: right;\">\n",
       "      <th></th>\n",
       "      <th>country</th>\n",
       "      <th>code_2</th>\n",
       "      <th>code_3</th>\n",
       "      <th>country_code</th>\n",
       "      <th>iso_3166_2</th>\n",
       "      <th>continent</th>\n",
       "      <th>sub_region</th>\n",
       "      <th>region_code</th>\n",
       "      <th>sub_region_code</th>\n",
       "    </tr>\n",
       "  </thead>\n",
       "  <tbody>\n",
       "    <tr>\n",
       "      <th>0</th>\n",
       "      <td>Afghanistan</td>\n",
       "      <td>AF</td>\n",
       "      <td>AFG</td>\n",
       "      <td>4</td>\n",
       "      <td>ISO 3166-2:AF</td>\n",
       "      <td>Asia</td>\n",
       "      <td>Southern Asia</td>\n",
       "      <td>142.0</td>\n",
       "      <td>34.0</td>\n",
       "    </tr>\n",
       "    <tr>\n",
       "      <th>1</th>\n",
       "      <td>Åland Islands</td>\n",
       "      <td>AX</td>\n",
       "      <td>ALA</td>\n",
       "      <td>248</td>\n",
       "      <td>ISO 3166-2:AX</td>\n",
       "      <td>Europe</td>\n",
       "      <td>Northern Europe</td>\n",
       "      <td>150.0</td>\n",
       "      <td>154.0</td>\n",
       "    </tr>\n",
       "    <tr>\n",
       "      <th>2</th>\n",
       "      <td>Albania</td>\n",
       "      <td>AL</td>\n",
       "      <td>ALB</td>\n",
       "      <td>8</td>\n",
       "      <td>ISO 3166-2:AL</td>\n",
       "      <td>Europe</td>\n",
       "      <td>Southern Europe</td>\n",
       "      <td>150.0</td>\n",
       "      <td>39.0</td>\n",
       "    </tr>\n",
       "    <tr>\n",
       "      <th>3</th>\n",
       "      <td>Algeria</td>\n",
       "      <td>DZ</td>\n",
       "      <td>DZA</td>\n",
       "      <td>12</td>\n",
       "      <td>ISO 3166-2:DZ</td>\n",
       "      <td>Africa</td>\n",
       "      <td>Northern Africa</td>\n",
       "      <td>2.0</td>\n",
       "      <td>15.0</td>\n",
       "    </tr>\n",
       "    <tr>\n",
       "      <th>4</th>\n",
       "      <td>American Samoa</td>\n",
       "      <td>AS</td>\n",
       "      <td>ASM</td>\n",
       "      <td>16</td>\n",
       "      <td>ISO 3166-2:AS</td>\n",
       "      <td>Oceania</td>\n",
       "      <td>Polynesia</td>\n",
       "      <td>9.0</td>\n",
       "      <td>61.0</td>\n",
       "    </tr>\n",
       "  </tbody>\n",
       "</table>\n",
       "</div>"
      ],
      "text/plain": [
       "          country code_2 code_3  country_code     iso_3166_2 continent  \\\n",
       "0     Afghanistan     AF    AFG             4  ISO 3166-2:AF      Asia   \n",
       "1   Åland Islands     AX    ALA           248  ISO 3166-2:AX    Europe   \n",
       "2         Albania     AL    ALB             8  ISO 3166-2:AL    Europe   \n",
       "3         Algeria     DZ    DZA            12  ISO 3166-2:DZ    Africa   \n",
       "4  American Samoa     AS    ASM            16  ISO 3166-2:AS   Oceania   \n",
       "\n",
       "        sub_region  region_code  sub_region_code  \n",
       "0    Southern Asia        142.0             34.0  \n",
       "1  Northern Europe        150.0            154.0  \n",
       "2  Southern Europe        150.0             39.0  \n",
       "3  Northern Africa          2.0             15.0  \n",
       "4        Polynesia          9.0             61.0  "
      ]
     },
     "execution_count": 79,
     "metadata": {},
     "output_type": "execute_result"
    }
   ],
   "source": [
    "c_codes = pd.read_csv('Data/country_codes.csv', encoding='iso-8859-1')\n",
    "c_codes.head()"
   ]
  },
  {
   "cell_type": "markdown",
   "metadata": {},
   "source": [
    "This data frame has a lot of information and we can add all or just a bit of it to our united nations dataframe using Pandas' `merge` method. \n",
    "\n",
    "Before we merge lets clean up the column names on the undf data frame and rename country to code_3 to be consistent with the above."
   ]
  },
  {
   "cell_type": "code",
   "execution_count": 80,
   "metadata": {},
   "outputs": [
    {
     "data": {
      "text/html": [
       "<div>\n",
       "<style scoped>\n",
       "    .dataframe tbody tr th:only-of-type {\n",
       "        vertical-align: middle;\n",
       "    }\n",
       "\n",
       "    .dataframe tbody tr th {\n",
       "        vertical-align: top;\n",
       "    }\n",
       "\n",
       "    .dataframe thead th {\n",
       "        text-align: right;\n",
       "    }\n",
       "</style>\n",
       "<table border=\"1\" class=\"dataframe\">\n",
       "  <thead>\n",
       "    <tr style=\"text-align: right;\">\n",
       "      <th></th>\n",
       "      <th>session</th>\n",
       "      <th>year</th>\n",
       "      <th>code_3</th>\n",
       "      <th>text</th>\n",
       "    </tr>\n",
       "  </thead>\n",
       "  <tbody>\n",
       "    <tr>\n",
       "      <th>0</th>\n",
       "      <td>44</td>\n",
       "      <td>1989</td>\n",
       "      <td>MDV</td>\n",
       "      <td>﻿It is indeed a pleasure for me and the member...</td>\n",
       "    </tr>\n",
       "    <tr>\n",
       "      <th>1</th>\n",
       "      <td>44</td>\n",
       "      <td>1989</td>\n",
       "      <td>FIN</td>\n",
       "      <td>﻿\\nMay I begin by congratulating you. Sir, on ...</td>\n",
       "    </tr>\n",
       "    <tr>\n",
       "      <th>2</th>\n",
       "      <td>44</td>\n",
       "      <td>1989</td>\n",
       "      <td>NER</td>\n",
       "      <td>﻿\\nMr. President, it is a particular pleasure ...</td>\n",
       "    </tr>\n",
       "    <tr>\n",
       "      <th>3</th>\n",
       "      <td>44</td>\n",
       "      <td>1989</td>\n",
       "      <td>URY</td>\n",
       "      <td>﻿\\nDuring the debate at the fortieth session o...</td>\n",
       "    </tr>\n",
       "    <tr>\n",
       "      <th>4</th>\n",
       "      <td>44</td>\n",
       "      <td>1989</td>\n",
       "      <td>ZWE</td>\n",
       "      <td>﻿I should like at the outset to express my del...</td>\n",
       "    </tr>\n",
       "  </tbody>\n",
       "</table>\n",
       "</div>"
      ],
      "text/plain": [
       "   session  year code_3                                               text\n",
       "0       44  1989    MDV  ﻿It is indeed a pleasure for me and the member...\n",
       "1       44  1989    FIN  ﻿\\nMay I begin by congratulating you. Sir, on ...\n",
       "2       44  1989    NER  ﻿\\nMr. President, it is a particular pleasure ...\n",
       "3       44  1989    URY  ﻿\\nDuring the debate at the fortieth session o...\n",
       "4       44  1989    ZWE  ﻿I should like at the outset to express my del..."
      ]
     },
     "execution_count": 80,
     "metadata": {},
     "output_type": "execute_result"
    }
   ],
   "source": [
    "undf.columns = ['session', 'year', 'code_3', 'text']\n",
    "undf.head()\n"
   ]
  },
  {
   "cell_type": "markdown",
   "metadata": {},
   "source": [
    "Now we can merge our two data frames!  We will keep all the columns from the original undf data frame  and add country, continent, and subregion from the c_codes data frame.  We will merge the two data frames on the code_3 column.  That is for every row in undf we will look for a row in the c_codes data frame where the values for code_3 match.  Pandas will then add the rest of the columns from the matching row in c_codes  to the current row in undf.  \n",
    "\n",
    "**Dramatic foreshadowing** In the c_codes data frame code_3 is the 'primary key' as no two rows will have the same value for code_3.  In the undf data frame code_3 is a 'Foreign key' as we use it to lookup additional information in a table where code_3 is a primary key.   More on this when we study SQL queries."
   ]
  },
  {
   "cell_type": "code",
   "execution_count": 81,
   "metadata": {},
   "outputs": [
    {
     "data": {
      "text/html": [
       "<div>\n",
       "<style scoped>\n",
       "    .dataframe tbody tr th:only-of-type {\n",
       "        vertical-align: middle;\n",
       "    }\n",
       "\n",
       "    .dataframe tbody tr th {\n",
       "        vertical-align: top;\n",
       "    }\n",
       "\n",
       "    .dataframe thead th {\n",
       "        text-align: right;\n",
       "    }\n",
       "</style>\n",
       "<table border=\"1\" class=\"dataframe\">\n",
       "  <thead>\n",
       "    <tr style=\"text-align: right;\">\n",
       "      <th></th>\n",
       "      <th>session</th>\n",
       "      <th>year</th>\n",
       "      <th>code_3</th>\n",
       "      <th>text</th>\n",
       "      <th>country</th>\n",
       "      <th>continent</th>\n",
       "      <th>sub_region</th>\n",
       "    </tr>\n",
       "  </thead>\n",
       "  <tbody>\n",
       "    <tr>\n",
       "      <th>0</th>\n",
       "      <td>44</td>\n",
       "      <td>1989</td>\n",
       "      <td>MDV</td>\n",
       "      <td>﻿It is indeed a pleasure for me and the member...</td>\n",
       "      <td>Maldives</td>\n",
       "      <td>Asia</td>\n",
       "      <td>Southern Asia</td>\n",
       "    </tr>\n",
       "    <tr>\n",
       "      <th>1</th>\n",
       "      <td>68</td>\n",
       "      <td>2013</td>\n",
       "      <td>MDV</td>\n",
       "      <td>I wish to begin by \\nextending my heartfelt co...</td>\n",
       "      <td>Maldives</td>\n",
       "      <td>Asia</td>\n",
       "      <td>Southern Asia</td>\n",
       "    </tr>\n",
       "    <tr>\n",
       "      <th>2</th>\n",
       "      <td>63</td>\n",
       "      <td>2008</td>\n",
       "      <td>MDV</td>\n",
       "      <td>I am delivering this \\nstatement on behalf of ...</td>\n",
       "      <td>Maldives</td>\n",
       "      <td>Asia</td>\n",
       "      <td>Southern Asia</td>\n",
       "    </tr>\n",
       "    <tr>\n",
       "      <th>3</th>\n",
       "      <td>46</td>\n",
       "      <td>1991</td>\n",
       "      <td>MDV</td>\n",
       "      <td>﻿Allow me at the outset on behalf of the deleg...</td>\n",
       "      <td>Maldives</td>\n",
       "      <td>Asia</td>\n",
       "      <td>Southern Asia</td>\n",
       "    </tr>\n",
       "    <tr>\n",
       "      <th>4</th>\n",
       "      <td>41</td>\n",
       "      <td>1986</td>\n",
       "      <td>MDV</td>\n",
       "      <td>It is indeed a pleasure for me and all the mem...</td>\n",
       "      <td>Maldives</td>\n",
       "      <td>Asia</td>\n",
       "      <td>Southern Asia</td>\n",
       "    </tr>\n",
       "  </tbody>\n",
       "</table>\n",
       "</div>"
      ],
      "text/plain": [
       "   session  year code_3                                               text  \\\n",
       "0       44  1989    MDV  ﻿It is indeed a pleasure for me and the member...   \n",
       "1       68  2013    MDV  I wish to begin by \\nextending my heartfelt co...   \n",
       "2       63  2008    MDV  I am delivering this \\nstatement on behalf of ...   \n",
       "3       46  1991    MDV  ﻿Allow me at the outset on behalf of the deleg...   \n",
       "4       41  1986    MDV  It is indeed a pleasure for me and all the mem...   \n",
       "\n",
       "    country continent     sub_region  \n",
       "0  Maldives      Asia  Southern Asia  \n",
       "1  Maldives      Asia  Southern Asia  \n",
       "2  Maldives      Asia  Southern Asia  \n",
       "3  Maldives      Asia  Southern Asia  \n",
       "4  Maldives      Asia  Southern Asia  "
      ]
     },
     "execution_count": 81,
     "metadata": {},
     "output_type": "execute_result"
    }
   ],
   "source": [
    "undfe = undf.merge(c_codes[['code_3', 'country', 'continent', 'sub_region']])\n",
    "undfe.head()"
   ]
  },
  {
   "cell_type": "code",
   "execution_count": 82,
   "metadata": {},
   "outputs": [
    {
     "name": "stderr",
     "output_type": "stream",
     "text": [
      "/Users/bradleymiller/.local/share/virtualenvs/Research-pR57-Mv_/lib/python3.6/site-packages/ipykernel_launcher.py:1: UserWarning: Boolean Series key will be reindexed to match DataFrame index.\n",
      "  \"\"\"Entry point for launching an IPython kernel.\n"
     ]
    },
    {
     "data": {
      "text/html": [
       "<div>\n",
       "<style scoped>\n",
       "    .dataframe tbody tr th:only-of-type {\n",
       "        vertical-align: middle;\n",
       "    }\n",
       "\n",
       "    .dataframe tbody tr th {\n",
       "        vertical-align: top;\n",
       "    }\n",
       "\n",
       "    .dataframe thead th {\n",
       "        text-align: right;\n",
       "    }\n",
       "</style>\n",
       "<table border=\"1\" class=\"dataframe\">\n",
       "  <thead>\n",
       "    <tr style=\"text-align: right;\">\n",
       "      <th></th>\n",
       "      <th>session</th>\n",
       "      <th>year</th>\n",
       "      <th>code_3</th>\n",
       "      <th>text</th>\n",
       "      <th>country</th>\n",
       "      <th>continent</th>\n",
       "      <th>sub_region</th>\n",
       "    </tr>\n",
       "  </thead>\n",
       "  <tbody>\n",
       "  </tbody>\n",
       "</table>\n",
       "</div>"
      ],
      "text/plain": [
       "Empty DataFrame\n",
       "Columns: [session, year, code_3, text, country, continent, sub_region]\n",
       "Index: []"
      ]
     },
     "execution_count": 82,
     "metadata": {},
     "output_type": "execute_result"
    }
   ],
   "source": [
    "undfe[undf.code_3 == 'EU ']"
   ]
  },
  {
   "cell_type": "markdown",
   "metadata": {},
   "source": [
    "Wait! What?  what happened to EU?!!  When we merge   "
   ]
  },
  {
   "cell_type": "code",
   "execution_count": 83,
   "metadata": {},
   "outputs": [
    {
     "data": {
      "text/plain": [
       "country    South Sudan\n",
       "text                 5\n",
       "Name: 161, dtype: object"
      ]
     },
     "execution_count": 83,
     "metadata": {},
     "output_type": "execute_result"
    }
   ],
   "source": [
    "by_country = undfe.groupby('country',as_index=False)['text'].count()\n",
    "by_country.loc[by_country.text.idxmin()]"
   ]
  },
  {
   "cell_type": "code",
   "execution_count": 84,
   "metadata": {},
   "outputs": [
    {
     "data": {
      "text/html": [
       "<div>\n",
       "<style scoped>\n",
       "    .dataframe tbody tr th:only-of-type {\n",
       "        vertical-align: middle;\n",
       "    }\n",
       "\n",
       "    .dataframe tbody tr th {\n",
       "        vertical-align: top;\n",
       "    }\n",
       "\n",
       "    .dataframe thead th {\n",
       "        text-align: right;\n",
       "    }\n",
       "</style>\n",
       "<table border=\"1\" class=\"dataframe\">\n",
       "  <thead>\n",
       "    <tr style=\"text-align: right;\">\n",
       "      <th></th>\n",
       "      <th>country</th>\n",
       "      <th>code_2</th>\n",
       "      <th>code_3</th>\n",
       "      <th>country_code</th>\n",
       "      <th>iso_3166_2</th>\n",
       "      <th>continent</th>\n",
       "      <th>sub_region</th>\n",
       "      <th>region_code</th>\n",
       "      <th>sub_region_code</th>\n",
       "    </tr>\n",
       "  </thead>\n",
       "  <tbody>\n",
       "  </tbody>\n",
       "</table>\n",
       "</div>"
      ],
      "text/plain": [
       "Empty DataFrame\n",
       "Columns: [country, code_2, code_3, country_code, iso_3166_2, continent, sub_region, region_code, sub_region_code]\n",
       "Index: []"
      ]
     },
     "execution_count": 84,
     "metadata": {},
     "output_type": "execute_result"
    }
   ],
   "source": [
    "c_codes[c_codes.code_2 == 'EU']"
   ]
  },
  {
   "cell_type": "markdown",
   "metadata": {},
   "source": [
    "I suspect that EU is the European Union which has a place in the UN but is not a country.  So OK, South Sudan has only spoken 5 times.  Why is that? There is a very logical explanation, but it only makes you want to check out the 5 or 10 countries that have spoken the least.  What are they?\n",
    "\n",
    "Ok, but why did EU seem to dissappear?  When we do a merge if the key is missing then the row is not included in the final result.\n"
   ]
  },
  {
   "cell_type": "code",
   "execution_count": 85,
   "metadata": {},
   "outputs": [
    {
     "data": {
      "text/plain": [
       "7406"
      ]
     },
     "execution_count": 85,
     "metadata": {},
     "output_type": "execute_result"
    }
   ],
   "source": [
    "len(undfe)"
   ]
  },
  {
   "cell_type": "code",
   "execution_count": 91,
   "metadata": {},
   "outputs": [
    {
     "data": {
      "text/plain": [
       "199"
      ]
     },
     "execution_count": 91,
     "metadata": {},
     "output_type": "execute_result"
    }
   ],
   "source": [
    "len(undf.code_3.unique())"
   ]
  },
  {
   "cell_type": "code",
   "execution_count": 92,
   "metadata": {},
   "outputs": [
    {
     "data": {
      "text/plain": [
       "194"
      ]
     },
     "execution_count": 92,
     "metadata": {},
     "output_type": "execute_result"
    }
   ],
   "source": [
    "len(undfe.code_3.unique())"
   ]
  },
  {
   "cell_type": "code",
   "execution_count": 90,
   "metadata": {},
   "outputs": [
    {
     "data": {
      "text/plain": [
       "{'CSK', 'DDR', 'EU', 'YDYE', 'YUG'}"
      ]
     },
     "execution_count": 90,
     "metadata": {},
     "output_type": "execute_result"
    }
   ],
   "source": [
    "set(undf.code_3.unique()) - set(undfe.code_3.unique())"
   ]
  },
  {
   "cell_type": "markdown",
   "metadata": {},
   "source": [
    "Can you figure out what each of the above stand for?  Why are they not in the list I gave you?\n",
    "\n",
    "At this point you may want to edit the csv file and add the data for these countries to the file.  Then you can rerun the whole notebook and we will not lose as much data."
   ]
  },
  {
   "cell_type": "markdown",
   "metadata": {},
   "source": [
    "Before we tackle most common and least common words we need to understand a couple of things about text processing.  First we are going to want to clean up our text, and second we need to learn about stop words.  If you think about it for a minute you can probably answer the question of the most used words already they will be words like 'a', 'an', 'the', 'and' etc.  These words are pretty useless if we are trying to extract some meaning from long texts.  Our initial list of cleaening tasks is as follows:\n",
    "\n",
    "1. Convert all text to lower case\n",
    "2. Remove all punctuation\n",
    "3. Break the string into a list of words\n",
    "4. Remove stop words from the list\n"
   ]
  },
  {
   "cell_type": "code",
   "execution_count": null,
   "metadata": {},
   "outputs": [],
   "source": []
  },
  {
   "cell_type": "code",
   "execution_count": null,
   "metadata": {},
   "outputs": [],
   "source": []
  },
  {
   "cell_type": "code",
   "execution_count": null,
   "metadata": {},
   "outputs": [],
   "source": []
  },
  {
   "cell_type": "code",
   "execution_count": null,
   "metadata": {},
   "outputs": [],
   "source": []
  },
  {
   "cell_type": "markdown",
   "metadata": {},
   "source": [
    "## Research Questions"
   ]
  },
  {
   "cell_type": "code",
   "execution_count": null,
   "metadata": {},
   "outputs": [],
   "source": []
  },
  {
   "cell_type": "code",
   "execution_count": null,
   "metadata": {},
   "outputs": [],
   "source": []
  },
  {
   "cell_type": "code",
   "execution_count": null,
   "metadata": {},
   "outputs": [],
   "source": []
  }
 ],
 "metadata": {
  "kernelspec": {
   "display_name": "Python 3",
   "language": "python",
   "name": "python3"
  },
  "language_info": {
   "codemirror_mode": {
    "name": "ipython",
    "version": 3
   },
   "file_extension": ".py",
   "mimetype": "text/x-python",
   "name": "python",
   "nbconvert_exporter": "python",
   "pygments_lexer": "ipython3",
   "version": "3.6.4"
  }
 },
 "nbformat": 4,
 "nbformat_minor": 2
}

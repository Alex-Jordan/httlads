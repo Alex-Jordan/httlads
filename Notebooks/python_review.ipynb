{
 "cells": [
  {
   "cell_type": "markdown",
   "metadata": {},
   "source": [
    "# Python Review \n",
    "<small>and a few new things</small>\n",
    "\n",
    "Python variables don't have a type so they can seamlessly change from being a numerical value, a string, other things:"
   ]
  },
  {
   "cell_type": "code",
   "execution_count": 1,
   "metadata": {},
   "outputs": [
    {
     "name": "stdout",
     "output_type": "stream",
     "text": [
      "<class 'int'>\n",
      "<class 'str'>\n",
      "<class 'builtin_function_or_method'>\n"
     ]
    }
   ],
   "source": [
    "my_var = 3\n",
    "print(type(my_var))\n",
    "my_var = \"foo\"\n",
    "print(type(my_var))\n",
    "my_var = len  # Even a function!\n",
    "print(type(my_var))"
   ]
  },
  {
   "cell_type": "markdown",
   "metadata": {},
   "source": [
    "Strings can be represented with single or double quotes. Triple quotes make it easy to define multi-line strings: "
   ]
  },
  {
   "cell_type": "code",
   "execution_count": 3,
   "metadata": {},
   "outputs": [
    {
     "name": "stdout",
     "output_type": "stream",
     "text": [
      "1: foo\n",
      "bar\n",
      "2: foo\n",
      "bar\n",
      "3: foo\n",
      "bar\n"
     ]
    }
   ],
   "source": [
    "my_var = 'foo\\nbar'   # \\n means newline\n",
    "print(\"1:\", my_var)\n",
    "my_var = \"foo\\nbar\"\n",
    "print(\"2:\", my_var)\n",
    "my_var = \"\"\"foo\n",
    "bar\"\"\"\n",
    "print(\"3:\", my_var)"
   ]
  },
  {
   "cell_type": "markdown",
   "metadata": {},
   "source": [
    "Python can convert variable from one type to another:"
   ]
  },
  {
   "cell_type": "code",
   "execution_count": 134,
   "metadata": {},
   "outputs": [],
   "source": [
    "my_string = str(123)\n",
    "my_int = int(my_string)\n",
    "almost_pi = float(\"3.14159\")"
   ]
  },
  {
   "cell_type": "markdown",
   "metadata": {},
   "source": [
    "Remember that you can import useful modules that add functionality to Python. For example:"
   ]
  },
  {
   "cell_type": "code",
   "execution_count": 5,
   "metadata": {},
   "outputs": [
    {
     "data": {
      "text/plain": [
       "26"
      ]
     },
     "execution_count": 5,
     "metadata": {},
     "output_type": "execute_result"
    }
   ],
   "source": [
    "import random\n",
    "random.randrange(20, 30)"
   ]
  },
  {
   "cell_type": "markdown",
   "metadata": {},
   "source": [
    "Re-run the above cell to see that it produces different outputs.\n",
    "\n",
    "For-loops can be used to iterate numerical values like in other programming languages with the range function: "
   ]
  },
  {
   "cell_type": "code",
   "execution_count": 127,
   "metadata": {},
   "outputs": [
    {
     "name": "stdout",
     "output_type": "stream",
     "text": [
      "0\n",
      "1\n",
      "2\n",
      "3\n",
      "4\n",
      "5\n",
      "6\n",
      "7\n",
      "8\n",
      "9\n"
     ]
    }
   ],
   "source": [
    "for i in range(0, 10):\n",
    "    print(i)"
   ]
  },
  {
   "cell_type": "markdown",
   "metadata": {},
   "source": [
    "But can also be used to visit every item in a list. "
   ]
  },
  {
   "cell_type": "code",
   "execution_count": 8,
   "metadata": {},
   "outputs": [
    {
     "name": "stdout",
     "output_type": "stream",
     "text": [
      "red\n",
      "green\n",
      "blue\n"
     ]
    }
   ],
   "source": [
    "for color in [\"red\", \"green\", \"blue\"]:\n",
    "    print(color)"
   ]
  },
  {
   "cell_type": "markdown",
   "metadata": {},
   "source": [
    "Remember that the contents of the for-loop have to be indented at the same level to differentiate them from code outside the for-loop:"
   ]
  },
  {
   "cell_type": "code",
   "execution_count": 73,
   "metadata": {},
   "outputs": [
    {
     "name": "stdout",
     "output_type": "stream",
     "text": [
      "repeated\n",
      "also repeated\n",
      "repeated\n",
      "also repeated\n",
      "repeated\n",
      "also repeated\n",
      "not repeated\n"
     ]
    }
   ],
   "source": [
    "for i in range(3):\n",
    "    print(\"repeated\")\n",
    "    print(\"also repeated\")\n",
    "print(\"not repeated\")"
   ]
  },
  {
   "cell_type": "markdown",
   "metadata": {},
   "source": [
    "Getting back to lists, they are a basic type in Python and they can contain a mix of different types:"
   ]
  },
  {
   "cell_type": "code",
   "execution_count": 101,
   "metadata": {},
   "outputs": [],
   "source": [
    "my_list = [\"string\", 1, [2.0, 4.5], 5.6]  # Don't do that\n",
    "my_list = []                              # An empty list\n",
    "my_list = [3, 4, 6, 2, 45, 23, 12, 34]    # That's better"
   ]
  },
  {
   "cell_type": "markdown",
   "metadata": {},
   "source": [
    "Lists are mutable so you can overwrite arbitrary values:"
   ]
  },
  {
   "cell_type": "code",
   "execution_count": 102,
   "metadata": {},
   "outputs": [
    {
     "data": {
      "text/plain": [
       "[3, 4, 64, 2, 45, 23, 12, 34]"
      ]
     },
     "execution_count": 102,
     "metadata": {},
     "output_type": "execute_result"
    }
   ],
   "source": [
    "my_list[2] = 64\n",
    "my_list"
   ]
  },
  {
   "cell_type": "markdown",
   "metadata": {},
   "source": [
    "Remember that indexes start at 0:"
   ]
  },
  {
   "cell_type": "code",
   "execution_count": 103,
   "metadata": {},
   "outputs": [
    {
     "data": {
      "text/plain": [
       "3"
      ]
     },
     "execution_count": 103,
     "metadata": {},
     "output_type": "execute_result"
    }
   ],
   "source": [
    "my_list[0]"
   ]
  },
  {
   "cell_type": "markdown",
   "metadata": {},
   "source": [
    "And you use negative indexes to refer to values starting from the end of the list."
   ]
  },
  {
   "cell_type": "code",
   "execution_count": 104,
   "metadata": {},
   "outputs": [
    {
     "data": {
      "text/plain": [
       "12"
      ]
     },
     "execution_count": 104,
     "metadata": {},
     "output_type": "execute_result"
    }
   ],
   "source": [
    "my_list[-2]"
   ]
  },
  {
   "cell_type": "markdown",
   "metadata": {},
   "source": [
    "\n",
    "You can also use slices to rapidly grab portion of the list. For example to get the first 2 values:"
   ]
  },
  {
   "cell_type": "code",
   "execution_count": 105,
   "metadata": {},
   "outputs": [
    {
     "data": {
      "text/plain": [
       "[3, 4]"
      ]
     },
     "execution_count": 105,
     "metadata": {},
     "output_type": "execute_result"
    }
   ],
   "source": [
    "my_list[0:2]"
   ]
  },
  {
   "cell_type": "markdown",
   "metadata": {},
   "source": [
    "You can also perform a variety of operations on lists:\n"
   ]
  },
  {
   "cell_type": "code",
   "execution_count": 145,
   "metadata": {},
   "outputs": [
    {
     "name": "stdout",
     "output_type": "stream",
     "text": [
      "10\n",
      "2\n",
      "146\n",
      "479\n",
      "[3, 4, 64, 2, 45, 23, 12, 34, 146, 146, 3, 4, 64, 2, 45, 23, 12, 34, 146, 146]\n",
      "[3, 4, 64, 2, 45, 23, 12, 34, 146, 146, 146, 1, 2, 3]\n"
     ]
    }
   ],
   "source": [
    "print(len(my_list))\n",
    "print(min(my_list))\n",
    "print(max(my_list))\n",
    "print(sum(my_list))\n",
    "print(my_list * 2)\n",
    "my_list.append(146)    # Changes my_list\n",
    "other_list = my_list + [1, 2, 3]   # Doesn't change my_list, need to store returned value\n",
    "print(other_list)"
   ]
  },
  {
   "cell_type": "markdown",
   "metadata": {},
   "source": [
    "Some of these operations work on strings too:"
   ]
  },
  {
   "cell_type": "code",
   "execution_count": 141,
   "metadata": {},
   "outputs": [
    {
     "name": "stdout",
     "output_type": "stream",
     "text": [
      "12\n",
      "j\n",
      "c de\n",
      "Abc defg hijAbc defg hij\n"
     ]
    }
   ],
   "source": [
    "my_var = \"Abc defg hij\"\n",
    "print(len(my_var))\n",
    "print(max(my_var))        # Why would you do that?\n",
    "# sum(my_var)      # This doesn't work\n",
    "# my_var[1] = 'v'  # Nor this\n",
    "print(my_var[2:6])\n",
    "print(my_var * 2)"
   ]
  },
  {
   "cell_type": "markdown",
   "metadata": {},
   "source": [
    "Strings also have special abilities:"
   ]
  },
  {
   "cell_type": "code",
   "execution_count": 152,
   "metadata": {},
   "outputs": [
    {
     "name": "stdout",
     "output_type": "stream",
     "text": [
      "abc defg hij\n",
      "ABC DEFG HIJ\n",
      "Abc Defg Hij\n",
      "True\n",
      "False\n",
      "Abc#$#defg#$#hij\n"
     ]
    }
   ],
   "source": [
    "print(my_var.lower())\n",
    "print(my_var.upper())\n",
    "print(my_var.title())\n",
    "print(my_var.startswith(\"Abc\"))\n",
    "print(my_var.endswith(\"xyz\"))\n",
    "list_of_string = my_var.split(\" \")\n",
    "new_string = \"#$#\".join(list_of_string)\n",
    "print(new_string)"
   ]
  },
  {
   "cell_type": "markdown",
   "metadata": {},
   "source": [
    "Use double-equals (==) to test for equality:\n"
   ]
  },
  {
   "cell_type": "code",
   "execution_count": 153,
   "metadata": {},
   "outputs": [
    {
     "name": "stdout",
     "output_type": "stream",
     "text": [
      "It's some other value\n"
     ]
    }
   ],
   "source": [
    "if sum(my_list) == 333:\n",
    "    print(\"It's 333 exactly!\")\n",
    "else:\n",
    "    print(\"It's some other value\")"
   ]
  },
  {
   "cell_type": "markdown",
   "metadata": {},
   "source": [
    "But you can test for a lot of different relations:"
   ]
  },
  {
   "cell_type": "code",
   "execution_count": 154,
   "metadata": {},
   "outputs": [
    {
     "name": "stdout",
     "output_type": "stream",
     "text": [
      "Weird condition\n"
     ]
    }
   ],
   "source": [
    "if my_list[0] > 20 and my_list[1] <= 14 or my_list[2] != 5 and 4 in my_list and 65 not in my_list:\n",
    "    print(\"Weird condition\")"
   ]
  },
  {
   "cell_type": "markdown",
   "metadata": {},
   "source": [
    "So to add up all the odd numbers in `my_list`:"
   ]
  },
  {
   "cell_type": "code",
   "execution_count": 155,
   "metadata": {},
   "outputs": [
    {
     "data": {
      "text/plain": [
       "71"
      ]
     },
     "execution_count": 155,
     "metadata": {},
     "output_type": "execute_result"
    }
   ],
   "source": [
    "total = 0\n",
    "for val in my_list:\n",
    "    if val % 2 == 1:\n",
    "        total += val\n",
    "total"
   ]
  },
  {
   "cell_type": "markdown",
   "metadata": {},
   "source": [
    "To read a file, we use the `open` function. Using `with` avoids having to remember to close the file."
   ]
  },
  {
   "cell_type": "code",
   "execution_count": 156,
   "metadata": {},
   "outputs": [],
   "source": [
    "with open('mydata.txt', 'r') as md:\n",
    "    for line in md:\n",
    "        pass # Do something with each line"
   ]
  },
  {
   "cell_type": "markdown",
   "metadata": {},
   "source": [
    "Dictionaries are another very handy, built-in data type in Python (they're hash tables if you've use another language that uses that name). Dictionaries can be created in a variety of ways:"
   ]
  },
  {
   "cell_type": "code",
   "execution_count": 157,
   "metadata": {},
   "outputs": [],
   "source": [
    "my_dict = {}   # Empty dict\n",
    "my_dict = {'foo': 'bar', 'baz': 'bak'} \n",
    "# This one is handy if you have a list of pairs to turn into a dictionary:\n",
    "my_dict = dict([['foo', 'bar'], ['baz', 'bak']])"
   ]
  },
  {
   "cell_type": "markdown",
   "metadata": {},
   "source": [
    "`'foo'` and `'baz'` are called keys, `'bar'` and `'bak'` are called values. You can access values in the dictionary with its key:"
   ]
  },
  {
   "cell_type": "code",
   "execution_count": 158,
   "metadata": {},
   "outputs": [
    {
     "data": {
      "text/plain": [
       "'bar'"
      ]
     },
     "execution_count": 158,
     "metadata": {},
     "output_type": "execute_result"
    }
   ],
   "source": [
    "my_dict['foo']"
   ]
  },
  {
   "cell_type": "markdown",
   "metadata": {},
   "source": [
    "And you can add new values (or overwrite old ones) by key as well:"
   ]
  },
  {
   "cell_type": "code",
   "execution_count": 159,
   "metadata": {},
   "outputs": [],
   "source": [
    "my_dict['hello'] = 'world'\n",
    "my_dict['hello'] = 'goodbye'"
   ]
  },
  {
   "cell_type": "markdown",
   "metadata": {},
   "source": [
    "You can iterate over a dictionary using a for-loop:"
   ]
  },
  {
   "cell_type": "code",
   "execution_count": 160,
   "metadata": {},
   "outputs": [
    {
     "name": "stdout",
     "output_type": "stream",
     "text": [
      "The key foo maps to the value bar\n",
      "The key baz maps to the value bak\n",
      "The key hello maps to the value goodbye\n"
     ]
    }
   ],
   "source": [
    "for key in my_dict:\n",
    "    print(\"The key\", key, \"maps to the value\", my_dict[key])"
   ]
  },
  {
   "cell_type": "markdown",
   "metadata": {},
   "source": [
    "You can define your own functions using the `def` keyword and `return` to specify the value that is returned by the function. Remember that the"
   ]
  },
  {
   "cell_type": "code",
   "execution_count": 161,
   "metadata": {},
   "outputs": [
    {
     "data": {
      "text/plain": [
       "16"
      ]
     },
     "execution_count": 161,
     "metadata": {},
     "output_type": "execute_result"
    }
   ],
   "source": [
    "def double_plus_y(x, y=4):\n",
    "    return 2 * x + y\n",
    "\n",
    "double_plus_y(6)"
   ]
  },
  {
   "cell_type": "markdown",
   "metadata": {},
   "source": [
    "But functions don't have to take parameters (`x` and `y` in the example above) or return anything:"
   ]
  },
  {
   "cell_type": "code",
   "execution_count": 162,
   "metadata": {},
   "outputs": [
    {
     "name": "stdout",
     "output_type": "stream",
     "text": [
      "Just saying 'hello'.\n"
     ]
    }
   ],
   "source": [
    "def say_hi():\n",
    "    print(\"Just saying 'hello'.\")\n",
    "    \n",
    "say_hi()"
   ]
  },
  {
   "cell_type": "markdown",
   "metadata": {},
   "source": [
    "The map function allows us to call a function on each item in a list:"
   ]
  },
  {
   "cell_type": "code",
   "execution_count": 163,
   "metadata": {},
   "outputs": [
    {
     "name": "stdout",
     "output_type": "stream",
     "text": [
      "10\n",
      "12\n",
      "132\n",
      "8\n",
      "94\n",
      "50\n",
      "28\n",
      "72\n",
      "296\n",
      "296\n",
      "296\n"
     ]
    }
   ],
   "source": [
    "for value in map(double_plus_y, my_list):\n",
    "    print(value)"
   ]
  },
  {
   "cell_type": "markdown",
   "metadata": {},
   "source": [
    "For simple, one-time-use function, we don't have to define a function, we can use lambda to define the operation in-line:"
   ]
  },
  {
   "cell_type": "code",
   "execution_count": 164,
   "metadata": {},
   "outputs": [
    {
     "name": "stdout",
     "output_type": "stream",
     "text": [
      "6\n",
      "8\n",
      "128\n",
      "4\n",
      "90\n",
      "46\n",
      "24\n",
      "68\n",
      "292\n",
      "292\n",
      "292\n"
     ]
    }
   ],
   "source": [
    "for value in map(lambda x: 2 * x, my_list):  # Don't need a separate function\n",
    "    print(value)"
   ]
  },
  {
   "cell_type": "markdown",
   "metadata": {},
   "source": [
    "Note that lambda functions don't use the `return` keyword, you just specify the names of the parameters of the function (`x` in the example above), a colon, and the operation to perform on the parameter(s).\n",
    "\n",
    "You can also use [list comprehension](https://www.pythonforbeginners.com/basics/list-comprehensions-in-python) to perform an operation on every item in the list. It looks a little bit like a for-loop inside of a list:"
   ]
  },
  {
   "cell_type": "code",
   "execution_count": 165,
   "metadata": {},
   "outputs": [
    {
     "data": {
      "text/plain": [
       "[6, 8, 128, 4, 90, 46, 24, 68, 292, 292, 292]"
      ]
     },
     "execution_count": 165,
     "metadata": {},
     "output_type": "execute_result"
    }
   ],
   "source": [
    "[x*2 for x in my_list]"
   ]
  },
  {
   "cell_type": "markdown",
   "metadata": {},
   "source": [
    "You can also use it to filter out values from a list. For example to extract every odd values from the list:"
   ]
  },
  {
   "cell_type": "code",
   "execution_count": 166,
   "metadata": {},
   "outputs": [
    {
     "data": {
      "text/plain": [
       "[3, 45, 23]"
      ]
     },
     "execution_count": 166,
     "metadata": {},
     "output_type": "execute_result"
    }
   ],
   "source": [
    "[x for x in my_list if x % 2 == 1]"
   ]
  },
  {
   "cell_type": "markdown",
   "metadata": {},
   "source": [
    "You can even combine filtering and other operations:"
   ]
  },
  {
   "cell_type": "code",
   "execution_count": 167,
   "metadata": {},
   "outputs": [
    {
     "data": {
      "text/plain": [
       "[9, 16, 4]"
      ]
     },
     "execution_count": 167,
     "metadata": {},
     "output_type": "execute_result"
    }
   ],
   "source": [
    "[x**2 for x in my_list if x<10]   # Square every value less than 10"
   ]
  },
  {
   "cell_type": "markdown",
   "metadata": {},
   "source": [
    "### List Comprehension Exercises\n",
    "Let's practice list comprehensions. To do so, we're going to be using a list of city and state names. Fun fact: these are all [real cities](https://en.wikipedia.org/wiki/List_of_the_most_common_U.S._place_names) in the US but with a more famous namesake in a different state.\n",
    "\n",
    "Use list comprehension to produce a list of only the cities whose name (including the state name) are less than 12 characters long."
   ]
  },
  {
   "cell_type": "code",
   "execution_count": 175,
   "metadata": {},
   "outputs": [
    {
     "data": {
      "text/plain": [
       "['franklin,vt', 'lebanon,co', 'dayton,tx', 'madison,ca']"
      ]
     },
     "execution_count": 175,
     "metadata": {},
     "output_type": "execute_result"
    }
   ],
   "source": [
    "cities = ['washington,ct', 'springfield,or', 'riverside,tx', 'franklin,vt', 'lebanon,co', 'dayton,tx', 'las vegas,nm', 'madison,ca', 'georgetown,ct', 'los angeles,tx']\n",
    "short_cities = []\n",
    "short_cities"
   ]
  },
  {
   "cell_type": "markdown",
   "metadata": {},
   "source": [
    "Next, create a list of abbreviations that are just the first 3 letters of each city name:"
   ]
  },
  {
   "cell_type": "code",
   "execution_count": 176,
   "metadata": {},
   "outputs": [
    {
     "data": {
      "text/plain": [
       "['was', 'spr', 'riv', 'fra', 'leb', 'day', 'las', 'mad', 'geo', 'los']"
      ]
     },
     "execution_count": 176,
     "metadata": {},
     "output_type": "execute_result"
    }
   ],
   "source": [
    "abbreviations = []\n",
    "abbreviations"
   ]
  },
  {
   "cell_type": "markdown",
   "metadata": {},
   "source": [
    "Use list comprehension, to create a dictionary that maps city names to the states that they are located in."
   ]
  },
  {
   "cell_type": "code",
   "execution_count": 180,
   "metadata": {},
   "outputs": [
    {
     "data": {
      "text/plain": [
       "{'washington': 'ct',\n",
       " 'springfield': 'or',\n",
       " 'riverside': 'tx',\n",
       " 'franklin': 'vt',\n",
       " 'lebanon': 'co',\n",
       " 'dayton': 'tx',\n",
       " 'las vegas': 'nm',\n",
       " 'madison': 'ca',\n",
       " 'georgetown': 'ct',\n",
       " 'los angeles': 'tx'}"
      ]
     },
     "execution_count": 180,
     "metadata": {},
     "output_type": "execute_result"
    }
   ],
   "source": [
    "city_dict = []\n",
    "city_dict"
   ]
  },
  {
   "cell_type": "markdown",
   "metadata": {},
   "source": [
    "For a more challenging list comprehension, write a single list comprehension that produces the [title-cased](https://en.wikipedia.org/wiki/Letter_case#Title_Case) version of just the city names of the cities in Texas (that means that the states should not be the resulting list). "
   ]
  },
  {
   "cell_type": "code",
   "execution_count": 179,
   "metadata": {},
   "outputs": [
    {
     "data": {
      "text/plain": [
       "['Riverside', 'Dayton', 'Los Angeles']"
      ]
     },
     "execution_count": 179,
     "metadata": {},
     "output_type": "execute_result"
    }
   ],
   "source": [
    "texas = []\n",
    "texas"
   ]
  },
  {
   "cell_type": "code",
   "execution_count": null,
   "metadata": {},
   "outputs": [],
   "source": []
  }
 ],
 "metadata": {
  "kernelspec": {
   "display_name": "Python 3",
   "language": "python",
   "name": "python3"
  },
  "language_info": {
   "codemirror_mode": {
    "name": "ipython",
    "version": 3
   },
   "file_extension": ".py",
   "mimetype": "text/x-python",
   "name": "python",
   "nbconvert_exporter": "python",
   "pygments_lexer": "ipython3",
   "version": "3.6.7"
  }
 },
 "nbformat": 4,
 "nbformat_minor": 2
}
